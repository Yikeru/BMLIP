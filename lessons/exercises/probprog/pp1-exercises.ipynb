{
 "cells": [
  {
   "cell_type": "markdown",
   "metadata": {
    "nbgrader": {
     "grade": false,
     "grade_id": "cell-217de2f8df81af69",
     "locked": true,
     "schema_version": 3,
     "solution": false,
     "task": false
    }
   },
   "source": [
    "## Probabilistic programming 1: Assignment\n",
    "\n",
    "Bayesian inference consists of specifying a likelihood function for the data, prior distributions for the unknown variables, and computing posterior distributions. In the first probabilistic programming session, we implemented likelihoods, priors and posteriors for the Beer Tasting experiment.\n",
    "\n",
    "Below, I am going to show you a likelihood function and we're going to see how it changes as a function of data. If you're unfamiliar with the concept of a likelihood function, then I suggest having another look at the lecture on [Bayesian machine learning](https://nbviewer.jupyter.org/github/bertdv/BMLIP/blob/master/lessons/notebooks/Bayesian-Machine-Learning.ipynb) or the [Probabilistic Programming 1](https://nbviewer.jupyter.org/github/bertdv/BMLIP/blob/master/lessons/notebooks/probprog/Probabilistic-Programming-1.ipynb) session."
   ]
  },
  {
   "cell_type": "code",
   "execution_count": null,
   "metadata": {
    "nbgrader": {
     "grade": false,
     "grade_id": "cell-edb1ede9e57a7fd7",
     "locked": true,
     "schema_version": 3,
     "solution": false,
     "task": false
    }
   },
   "outputs": [],
   "source": [
    "using Pkg\n",
    "Pkg.activate(\"workspace/\")\n",
    "Pkg.instantiate();"
   ]
  },
  {
   "cell_type": "code",
   "execution_count": null,
   "metadata": {
    "nbgrader": {
     "grade": false,
     "grade_id": "cell-5569972c30c50de9",
     "locked": true,
     "schema_version": 3,
     "solution": false,
     "task": false
    }
   },
   "outputs": [],
   "source": [
    "using Plots"
   ]
  },
  {
   "cell_type": "code",
   "execution_count": null,
   "metadata": {
    "nbgrader": {
     "grade": false,
     "grade_id": "cell-46bb239d8634b922",
     "locked": true,
     "schema_version": 3,
     "solution": false,
     "task": false
    }
   },
   "outputs": [],
   "source": [
    "# Data set\n",
    "D = [0 0 1]\n",
    "\n",
    "# Range of parameters\n",
    "θ = range(0, stop=1, length=100)\n",
    "\n",
    "# Likelihood function\n",
    "likelihood(D, θ) = θ.^(sum(D .== 1)) .* (1 .- θ).^(sum((1 .- D) .== 1))\n",
    "\n",
    "# Plot likelihood\n",
    "plot(θ, likelihood(D, θ), linewidth=2, label=\"\", xlabel=\"θ\", ylabel=\"p(D|θ)\", size=(800,300))"
   ]
  },
  {
   "cell_type": "markdown",
   "metadata": {
    "nbgrader": {
     "grade": false,
     "grade_id": "cell-34af111d992edccd",
     "locked": true,
     "schema_version": 3,
     "solution": false,
     "task": false
    }
   },
   "source": [
    "### **1) What is the likelihood of $\\theta = 0.5$?**"
   ]
  },
  {
   "cell_type": "code",
   "execution_count": null,
   "metadata": {
    "nbgrader": {
     "grade": false,
     "grade_id": "cell-2b06871cebe3fe1d",
     "locked": false,
     "schema_version": 3,
     "solution": true,
     "task": false
    }
   },
   "outputs": [],
   "source": [
    "# Create a variable \"answer_1\" with your value for the likelihood\n",
    "\n",
    "### YOUR CODE HERE\n",
    "\n",
    "# Print answer\n",
    "println(\"1) Likelihood = \"*string(answer_1))"
   ]
  },
  {
   "cell_type": "markdown",
   "metadata": {
    "nbgrader": {
     "grade": false,
     "grade_id": "cell-a58d9bd6399cc06e",
     "locked": true,
     "schema_version": 3,
     "solution": false,
     "task": false
    }
   },
   "source": [
    "Suppose we had more observations. These will reshape the likelihood, but also re-scale it.\n",
    "\n",
    "### **2) Add the following data $[0\\ 1\\ 1]$ to your set and re-compute the likelihood of $\\theta = 0.5$.**"
   ]
  },
  {
   "cell_type": "code",
   "execution_count": null,
   "metadata": {
    "nbgrader": {
     "grade": false,
     "grade_id": "cell-743510b4bc1ad03b",
     "locked": false,
     "schema_version": 3,
     "solution": true,
     "task": false
    }
   },
   "outputs": [],
   "source": [
    "# Create a variable \"answer_2\" with your value for the likelihood\n",
    "\n",
    "### YOUR CODE HERE\n",
    "\n",
    "# Print answer\n",
    "println(\"2) Likelihood = \"*string(answer_2))"
   ]
  },
  {
   "cell_type": "markdown",
   "metadata": {
    "nbgrader": {
     "grade": false,
     "grade_id": "cell-1df07b963877fdc5",
     "locked": true,
     "schema_version": 3,
     "solution": false,
     "task": false
    }
   },
   "source": [
    "The likelihood seems to have gone down. Let's plot the likelihood function again, for the larger data set."
   ]
  },
  {
   "cell_type": "code",
   "execution_count": null,
   "metadata": {},
   "outputs": [],
   "source": [
    "D = [0 0 1]\n",
    "[D 0 1 1]"
   ]
  },
  {
   "cell_type": "code",
   "execution_count": null,
   "metadata": {
    "nbgrader": {
     "grade": false,
     "grade_id": "cell-ae05250356723f5d",
     "locked": true,
     "schema_version": 3,
     "solution": false,
     "task": false
    }
   },
   "outputs": [],
   "source": [
    "# Data set\n",
    "D = [0 0 1 0 1 1]\n",
    "\n",
    "# Plot likelihood\n",
    "plot(θ, likelihood(D, θ), linewidth=2, label=\"\", xlabel=\"θ\", ylabel=\"p(D|θ)\", size=(800,300))"
   ]
  },
  {
   "cell_type": "markdown",
   "metadata": {
    "nbgrader": {
     "grade": false,
     "grade_id": "cell-80e23368a218223b",
     "locked": true,
     "schema_version": 3,
     "solution": false,
     "task": false
    }
   },
   "source": [
    "The maximum of the likelihood function moved towards $0.5$, but the likelihood went down nonetheless. This happens because the scale of the function decreases as we add more data."
   ]
  },
  {
   "cell_type": "markdown",
   "metadata": {
    "nbgrader": {
     "grade": false,
     "grade_id": "cell-cc0571a4cfc2cfec",
     "locked": true,
     "schema_version": 3,
     "solution": false,
     "task": false
    }
   },
   "source": [
    "Say we add even more observations, namely $[1\\ 1\\ 1\\ 1]$.\n",
    "\n",
    "### **3) Which is bigger now: the likelihood of $\\theta=0.5$ or of $\\theta=0.8$?**"
   ]
  },
  {
   "cell_type": "code",
   "execution_count": null,
   "metadata": {},
   "outputs": [],
   "source": [
    "D = [0 0 1 0 1 1 1 1 1 1]\n",
    "\n",
    "plot(θ, likelihood(D, θ), linewidth=2, label=\"\", xlabel=\"θ\", ylabel=\"p(D|θ)\", size=(800,300))"
   ]
  },
  {
   "cell_type": "code",
   "execution_count": null,
   "metadata": {
    "nbgrader": {
     "grade": false,
     "grade_id": "cell-ed14ddeeb7ef1ebe",
     "locked": false,
     "schema_version": 3,
     "solution": true,
     "task": false
    }
   },
   "outputs": [],
   "source": [
    "# Create a variable \"answer_3\" with either 0.5 or 0.8 as your answer.\n",
    "\n",
    "### YOUR CODE HERE\n",
    "\n",
    "# Print answer\n",
    "println(\"The likelihood of θ = \"*string(answer_3)*\" is largest.\")"
   ]
  }
 ],
 "metadata": {
  "@webio": {
   "lastCommId": null,
   "lastKernelId": null
  },
  "celltoolbar": "Create Assignment",
  "kernelspec": {
   "display_name": "Julia 1.6.3",
   "language": "julia",
   "name": "julia-1.6"
  },
  "language_info": {
   "file_extension": ".jl",
   "mimetype": "application/julia",
   "name": "julia",
   "version": "1.6.3"
  }
 },
 "nbformat": 4,
 "nbformat_minor": 4
}
