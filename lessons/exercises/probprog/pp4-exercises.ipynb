{
 "cells": [
  {
   "cell_type": "markdown",
   "metadata": {
    "nbgrader": {
     "grade": false,
     "grade_id": "cell-217de2f8df81af69",
     "locked": true,
     "schema_version": 3,
     "solution": false,
     "task": false
    }
   },
   "source": [
    "## Probabilistic Programming 4: Assignment\n",
    "\n",
    "In this assignment, you will be simultaneously estimating states and process noise for a linear Gaussian dynamical system."
   ]
  },
  {
   "cell_type": "code",
   "execution_count": null,
   "metadata": {
    "nbgrader": {
     "grade": false,
     "grade_id": "cell-e51969b4ad2965d0",
     "locked": true,
     "schema_version": 3,
     "solution": false,
     "task": false
    }
   },
   "outputs": [],
   "source": [
    "using Pkg\n",
    "Pkg.activate(\"workspace/\")\n",
    "Pkg.instantiate();"
   ]
  },
  {
   "cell_type": "code",
   "execution_count": null,
   "metadata": {
    "nbgrader": {
     "grade": false,
     "grade_id": "cell-e5772227819eafb4",
     "locked": true,
     "schema_version": 3,
     "solution": false,
     "task": false
    }
   },
   "outputs": [],
   "source": [
    "using JLD\n",
    "using ForneyLab\n",
    "using Plots"
   ]
  },
  {
   "cell_type": "code",
   "execution_count": null,
   "metadata": {
    "nbgrader": {
     "grade": false,
     "grade_id": "cell-90ee7c5e0376b41f",
     "locked": true,
     "schema_version": 3,
     "solution": false,
     "task": false
    }
   },
   "outputs": [],
   "source": [
    "# Load previously generated signal\n",
    "signal = load(\"util/signal.jld\");\n",
    "\n",
    "# Extract variables\n",
    "T = signal[\"T\"]\n",
    "Y = signal[\"Y\"]\n",
    "γ = signal[\"γ\"]\n",
    "\n",
    "# Visualize data\n",
    "plot(1:T, Y, color=\"black\", label=\"observations\", markersize=6, xlabel=\"time (t)\", ylabel=\"signal\", size=(800,300))"
   ]
  },
  {
   "cell_type": "markdown",
   "metadata": {
    "nbgrader": {
     "grade": false,
     "grade_id": "cell-e97dd409449721d5",
     "locked": true,
     "schema_version": 3,
     "solution": false,
     "task": false
    }
   },
   "source": [
    "The data above is from a random walk, i.e. a process defined by the following equations:\n",
    "\n",
    "$$\\begin{align*}\n",
    "x_k =&\\ x_{k-1} + w_k \\\\\n",
    "y_k =&\\ x_k + v_k \\, .\n",
    "\\end{align*}$$\n",
    "\n",
    "The variables $w$ and $v$ are process noise and measurement noise respectively, with $w \\sim \\mathcal{N}(0, \\tau^{-1})$ and $v \\sim \\mathcal{N}(0, \\gamma^{-1})$. The parameter $\\tau$ represents process noise _precision_ and the parameter $\\gamma$ represents measurement noise _precision_. We do know the value of $\\gamma$, but not of $\\tau$. With Bayesian inference, we can simultaneously estimate the time-varying states and the time-invariant process noise precision. You need only to cast the equations to a generative model and pose a prior for the unknown variables.\n",
    "\n",
    "### **1) Finish the model specification below.**\n",
    "\n",
    "Add a variable `τ` with the prior for the process noise _precision_ and a variable `x_k` with the state transition distribution. Note that the prior for `τ` should contain two placeholders: `placeholder(:1)` and `placeholder(:τ2)`.\n",
    "\n",
    "Remember to use `@RV var ~ ...` to define a variable distributed according to a desired distributon. Options include `GaussianMeanVariance`, `GaussianMeanPrecision`, `Gamma`, `Wishart`, `Beta`, `Bernoulli`, `Categorical` and `Dirichlet`."
   ]
  },
  {
   "cell_type": "code",
   "execution_count": null,
   "metadata": {
    "nbgrader": {
     "grade": false,
     "grade_id": "cell-986907b4216bcbab",
     "locked": false,
     "schema_version": 3,
     "solution": true,
     "task": false
    }
   },
   "outputs": [],
   "source": [
    "# Initialize a graph\n",
    "graph = FactorGraph()\n",
    "\n",
    "# Define initial state prior\n",
    "@RV x_kmin1 ~ GaussianMeanPrecision(placeholder(:m_x_kmin1), \n",
    "                                    placeholder(:w_x_kmin1))\n",
    "\n",
    "### YOUR CODE HERE\n",
    "    \n",
    "# Observation likelihood\n",
    "@RV y_k ~ GaussianMeanPrecision(x_k, γ)\n",
    "    \n",
    "# Tell FL that y is observed\n",
    "placeholder(y_k, :y_k);\n",
    "\n",
    "# Visualize subgraph\n",
    "ForneyLab.draw(graph)"
   ]
  },
  {
   "cell_type": "code",
   "execution_count": null,
   "metadata": {
    "nbgrader": {
     "grade": true,
     "grade_id": "cell-f9c33ac03a54365a",
     "locked": true,
     "points": 3,
     "schema_version": 3,
     "solution": false,
     "task": false
    }
   },
   "outputs": [],
   "source": [
    "# This cell compiles an inference algorithm based on your model specification (3 points)\n",
    "q = PosteriorFactorization(x_k, x_kmin1, τ, ids=[:x :x_kmin1 :τ])\n",
    "algorithm = messagePassingAlgorithm()\n",
    "source_code = algorithmSourceCode(algorithm)\n",
    "eval(Meta.parse(source_code));"
   ]
  },
  {
   "cell_type": "code",
   "execution_count": null,
   "metadata": {
    "nbgrader": {
     "grade": false,
     "grade_id": "cell-584c6b201e5a463f",
     "locked": true,
     "schema_version": 3,
     "solution": false,
     "task": false
    }
   },
   "outputs": [],
   "source": [
    "# SPOILER ALERT! \n",
    "# This script contains clues on specifying the model correctly.\n",
    "# Do not look into it if you don't want the assignment spoiled!\n",
    "include(\"util/run_inference.jl\")"
   ]
  },
  {
   "cell_type": "markdown",
   "metadata": {
    "nbgrader": {
     "grade": false,
     "grade_id": "cell-c58cd039b14eda84",
     "locked": true,
     "schema_version": 3,
     "solution": false,
     "task": false
    }
   },
   "source": [
    "Your generated plot should look something like this:\n",
    "\n",
    "![](figures/filtered_signal.png)"
   ]
  }
 ],
 "metadata": {
  "@webio": {
   "lastCommId": null,
   "lastKernelId": null
  },
  "celltoolbar": "Create Assignment",
  "kernelspec": {
   "display_name": "Julia 1.6.3",
   "language": "julia",
   "name": "julia-1.6"
  },
  "language_info": {
   "file_extension": ".jl",
   "mimetype": "application/julia",
   "name": "julia",
   "version": "1.6.3"
  }
 },
 "nbformat": 4,
 "nbformat_minor": 4
}
