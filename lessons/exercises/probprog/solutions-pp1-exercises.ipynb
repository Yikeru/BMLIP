{
 "cells": [
  {
   "cell_type": "markdown",
   "metadata": {
    "nbgrader": {
     "grade": false,
     "grade_id": "cell-217de2f8df81af69",
     "locked": true,
     "schema_version": 3,
     "solution": false,
     "task": false
    }
   },
   "source": [
    "## Probabilistic programming 1: Assignment\n",
    "\n",
    "Bayesian inference consists of specifying a likelihood function for the data, prior distributions for the unknown variables, and computing posterior distributions. In the first probabilistic programming session, we implemented likelihoods, priors and posteriors for the Beer Tasting experiment.\n",
    "\n",
    "Below, I am going to show you a likelihood function and we're going to see how it changes as a function of data. If you're unfamiliar with the concept of a likelihood function, then I suggest having another look at the lecture on [Bayesian machine learning](https://nbviewer.jupyter.org/github/bertdv/BMLIP/blob/master/lessons/notebooks/Bayesian-Machine-Learning.ipynb) or the [Probabilistic Programming 1](https://nbviewer.jupyter.org/github/bertdv/BMLIP/blob/master/lessons/notebooks/probprog/Probabilistic-Programming-1.ipynb) session."
   ]
  },
  {
   "cell_type": "code",
   "execution_count": null,
   "metadata": {
    "nbgrader": {
     "grade": false,
     "grade_id": "cell-edb1ede9e57a7fd7",
     "locked": true,
     "schema_version": 3,
     "solution": false,
     "task": false
    }
   },
   "outputs": [],
   "source": [
    "using Pkg\n",
    "Pkg.activate(\"workspace/\")\n",
    "Pkg.instantiate();"
   ]
  },
  {
   "cell_type": "code",
   "execution_count": null,
   "metadata": {
    "nbgrader": {
     "grade": false,
     "grade_id": "cell-5569972c30c50de9",
     "locked": true,
     "schema_version": 3,
     "solution": false,
     "task": false
    }
   },
   "outputs": [],
   "source": [
    "using Plots"
   ]
  },
  {
   "cell_type": "code",
   "execution_count": 3,
   "metadata": {
    "nbgrader": {
     "grade": false,
     "grade_id": "cell-46bb239d8634b922",
     "locked": true,
     "schema_version": 3,
     "solution": false,
     "task": false
    }
   },
   "outputs": [
    {
     "data": {
      "image/svg+xml": [
       "<?xml version=\"1.0\" encoding=\"utf-8\"?>\n",
       "<svg xmlns=\"http://www.w3.org/2000/svg\" xmlns:xlink=\"http://www.w3.org/1999/xlink\" width=\"800\" height=\"300\" viewBox=\"0 0 3200 1200\">\n",
       "<defs>\n",
       "  <clipPath id=\"clip030\">\n",
       "    <rect x=\"0\" y=\"0\" width=\"3200\" height=\"1200\"/>\n",
       "  </clipPath>\n",
       "</defs>\n",
       "<path clip-path=\"url(#clip030)\" d=\"\n",
       "M0 1200 L3200 1200 L3200 0 L0 0  Z\n",
       "  \" fill=\"#ffffff\" fill-rule=\"evenodd\" fill-opacity=\"1\"/>\n",
       "<defs>\n",
       "  <clipPath id=\"clip031\">\n",
       "    <rect x=\"640\" y=\"0\" width=\"2241\" height=\"1200\"/>\n",
       "  </clipPath>\n",
       "</defs>\n",
       "<path clip-path=\"url(#clip030)\" d=\"\n",
       "M236.752 1063.09 L3152.76 1063.09 L3152.76 47.2441 L236.752 47.2441  Z\n",
       "  \" fill=\"#ffffff\" fill-rule=\"evenodd\" fill-opacity=\"1\"/>\n",
       "<defs>\n",
       "  <clipPath id=\"clip032\">\n",
       "    <rect x=\"236\" y=\"47\" width=\"2917\" height=\"1017\"/>\n",
       "  </clipPath>\n",
       "</defs>\n",
       "<polyline clip-path=\"url(#clip032)\" style=\"stroke:#000000; stroke-linecap:butt; stroke-linejoin:round; stroke-width:2; stroke-opacity:0.1; fill:none\" points=\"\n",
       "  319.28,1063.09 319.28,47.2441 \n",
       "  \"/>\n",
       "<polyline clip-path=\"url(#clip032)\" style=\"stroke:#000000; stroke-linecap:butt; stroke-linejoin:round; stroke-width:2; stroke-opacity:0.1; fill:none\" points=\"\n",
       "  1007.02,1063.09 1007.02,47.2441 \n",
       "  \"/>\n",
       "<polyline clip-path=\"url(#clip032)\" style=\"stroke:#000000; stroke-linecap:butt; stroke-linejoin:round; stroke-width:2; stroke-opacity:0.1; fill:none\" points=\"\n",
       "  1694.75,1063.09 1694.75,47.2441 \n",
       "  \"/>\n",
       "<polyline clip-path=\"url(#clip032)\" style=\"stroke:#000000; stroke-linecap:butt; stroke-linejoin:round; stroke-width:2; stroke-opacity:0.1; fill:none\" points=\"\n",
       "  2382.49,1063.09 2382.49,47.2441 \n",
       "  \"/>\n",
       "<polyline clip-path=\"url(#clip032)\" style=\"stroke:#000000; stroke-linecap:butt; stroke-linejoin:round; stroke-width:2; stroke-opacity:0.1; fill:none\" points=\"\n",
       "  3070.23,1063.09 3070.23,47.2441 \n",
       "  \"/>\n",
       "<polyline clip-path=\"url(#clip030)\" style=\"stroke:#000000; stroke-linecap:butt; stroke-linejoin:round; stroke-width:4; stroke-opacity:1; fill:none\" points=\"\n",
       "  236.752,1063.09 3152.76,1063.09 \n",
       "  \"/>\n",
       "<polyline clip-path=\"url(#clip030)\" style=\"stroke:#000000; stroke-linecap:butt; stroke-linejoin:round; stroke-width:4; stroke-opacity:1; fill:none\" points=\"\n",
       "  319.28,1063.09 319.28,1044.19 \n",
       "  \"/>\n",
       "<polyline clip-path=\"url(#clip030)\" style=\"stroke:#000000; stroke-linecap:butt; stroke-linejoin:round; stroke-width:4; stroke-opacity:1; fill:none\" points=\"\n",
       "  1007.02,1063.09 1007.02,1044.19 \n",
       "  \"/>\n",
       "<polyline clip-path=\"url(#clip030)\" style=\"stroke:#000000; stroke-linecap:butt; stroke-linejoin:round; stroke-width:4; stroke-opacity:1; fill:none\" points=\"\n",
       "  1694.75,1063.09 1694.75,1044.19 \n",
       "  \"/>\n",
       "<polyline clip-path=\"url(#clip030)\" style=\"stroke:#000000; stroke-linecap:butt; stroke-linejoin:round; stroke-width:4; stroke-opacity:1; fill:none\" points=\"\n",
       "  2382.49,1063.09 2382.49,1044.19 \n",
       "  \"/>\n",
       "<polyline clip-path=\"url(#clip030)\" style=\"stroke:#000000; stroke-linecap:butt; stroke-linejoin:round; stroke-width:4; stroke-opacity:1; fill:none\" points=\"\n",
       "  3070.23,1063.09 3070.23,1044.19 \n",
       "  \"/>\n",
       "<path clip-path=\"url(#clip030)\" d=\"M281.584 1100.41 Q277.973 1100.41 276.144 1103.97 Q274.339 1107.51 274.339 1114.64 Q274.339 1121.75 276.144 1125.32 Q277.973 1128.86 281.584 1128.86 Q285.218 1128.86 287.024 1125.32 Q288.852 1121.75 288.852 1114.64 Q288.852 1107.51 287.024 1103.97 Q285.218 1100.41 281.584 1100.41 M281.584 1096.7 Q287.394 1096.7 290.45 1101.31 Q293.528 1105.89 293.528 1114.64 Q293.528 1123.37 290.45 1127.98 Q287.394 1132.56 281.584 1132.56 Q275.774 1132.56 272.695 1127.98 Q269.64 1123.37 269.64 1114.64 Q269.64 1105.89 272.695 1101.31 Q275.774 1096.7 281.584 1096.7 Z\" fill=\"#000000\" fill-rule=\"evenodd\" fill-opacity=\"1\" /><path clip-path=\"url(#clip030)\" d=\"M301.746 1126.01 L306.63 1126.01 L306.63 1131.89 L301.746 1131.89 L301.746 1126.01 Z\" fill=\"#000000\" fill-rule=\"evenodd\" fill-opacity=\"1\" /><path clip-path=\"url(#clip030)\" d=\"M326.815 1100.41 Q323.204 1100.41 321.375 1103.97 Q319.57 1107.51 319.57 1114.64 Q319.57 1121.75 321.375 1125.32 Q323.204 1128.86 326.815 1128.86 Q330.449 1128.86 332.255 1125.32 Q334.084 1121.75 334.084 1114.64 Q334.084 1107.51 332.255 1103.97 Q330.449 1100.41 326.815 1100.41 M326.815 1096.7 Q332.625 1096.7 335.681 1101.31 Q338.76 1105.89 338.76 1114.64 Q338.76 1123.37 335.681 1127.98 Q332.625 1132.56 326.815 1132.56 Q321.005 1132.56 317.926 1127.98 Q314.871 1123.37 314.871 1114.64 Q314.871 1105.89 317.926 1101.31 Q321.005 1096.7 326.815 1096.7 Z\" fill=\"#000000\" fill-rule=\"evenodd\" fill-opacity=\"1\" /><path clip-path=\"url(#clip030)\" d=\"M356.977 1100.41 Q353.366 1100.41 351.537 1103.97 Q349.732 1107.51 349.732 1114.64 Q349.732 1121.75 351.537 1125.32 Q353.366 1128.86 356.977 1128.86 Q360.611 1128.86 362.417 1125.32 Q364.245 1121.75 364.245 1114.64 Q364.245 1107.51 362.417 1103.97 Q360.611 1100.41 356.977 1100.41 M356.977 1096.7 Q362.787 1096.7 365.843 1101.31 Q368.921 1105.89 368.921 1114.64 Q368.921 1123.37 365.843 1127.98 Q362.787 1132.56 356.977 1132.56 Q351.167 1132.56 348.088 1127.98 Q345.033 1123.37 345.033 1114.64 Q345.033 1105.89 348.088 1101.31 Q351.167 1096.7 356.977 1096.7 Z\" fill=\"#000000\" fill-rule=\"evenodd\" fill-opacity=\"1\" /><path clip-path=\"url(#clip030)\" d=\"M969.818 1100.41 Q966.207 1100.41 964.379 1103.97 Q962.573 1107.51 962.573 1114.64 Q962.573 1121.75 964.379 1125.32 Q966.207 1128.86 969.818 1128.86 Q973.453 1128.86 975.258 1125.32 Q977.087 1121.75 977.087 1114.64 Q977.087 1107.51 975.258 1103.97 Q973.453 1100.41 969.818 1100.41 M969.818 1096.7 Q975.628 1096.7 978.684 1101.31 Q981.763 1105.89 981.763 1114.64 Q981.763 1123.37 978.684 1127.98 Q975.628 1132.56 969.818 1132.56 Q964.008 1132.56 960.929 1127.98 Q957.874 1123.37 957.874 1114.64 Q957.874 1105.89 960.929 1101.31 Q964.008 1096.7 969.818 1096.7 Z\" fill=\"#000000\" fill-rule=\"evenodd\" fill-opacity=\"1\" /><path clip-path=\"url(#clip030)\" d=\"M989.98 1126.01 L994.864 1126.01 L994.864 1131.89 L989.98 1131.89 L989.98 1126.01 Z\" fill=\"#000000\" fill-rule=\"evenodd\" fill-opacity=\"1\" /><path clip-path=\"url(#clip030)\" d=\"M1009.08 1127.95 L1025.4 1127.95 L1025.4 1131.89 L1003.45 1131.89 L1003.45 1127.95 Q1006.11 1125.2 1010.7 1120.57 Q1015.3 1115.92 1016.48 1114.58 Q1018.73 1112.05 1019.61 1110.32 Q1020.51 1108.56 1020.51 1106.87 Q1020.51 1104.11 1018.57 1102.38 Q1016.65 1100.64 1013.54 1100.64 Q1011.35 1100.64 1008.89 1101.4 Q1006.46 1102.17 1003.68 1103.72 L1003.68 1099 Q1006.51 1097.86 1008.96 1097.28 Q1011.42 1096.7 1013.45 1096.7 Q1018.82 1096.7 1022.02 1099.39 Q1025.21 1102.08 1025.21 1106.57 Q1025.21 1108.7 1024.4 1110.62 Q1023.61 1112.51 1021.51 1115.11 Q1020.93 1115.78 1017.83 1119 Q1014.73 1122.19 1009.08 1127.95 Z\" fill=\"#000000\" fill-rule=\"evenodd\" fill-opacity=\"1\" /><path clip-path=\"url(#clip030)\" d=\"M1035.26 1097.33 L1053.61 1097.33 L1053.61 1101.27 L1039.54 1101.27 L1039.54 1109.74 Q1040.56 1109.39 1041.58 1109.23 Q1042.6 1109.04 1043.61 1109.04 Q1049.4 1109.04 1052.78 1112.21 Q1056.16 1115.39 1056.16 1120.8 Q1056.16 1126.38 1052.69 1129.48 Q1049.22 1132.56 1042.9 1132.56 Q1040.72 1132.56 1038.45 1132.19 Q1036.21 1131.82 1033.8 1131.08 L1033.8 1126.38 Q1035.88 1127.51 1038.11 1128.07 Q1040.33 1128.63 1042.8 1128.63 Q1046.81 1128.63 1049.15 1126.52 Q1051.48 1124.41 1051.48 1120.8 Q1051.48 1117.19 1049.15 1115.08 Q1046.81 1112.98 1042.8 1112.98 Q1040.93 1112.98 1039.05 1113.39 Q1037.2 1113.81 1035.26 1114.69 L1035.26 1097.33 Z\" fill=\"#000000\" fill-rule=\"evenodd\" fill-opacity=\"1\" /><path clip-path=\"url(#clip030)\" d=\"M1657.06 1100.41 Q1653.45 1100.41 1651.62 1103.97 Q1649.81 1107.51 1649.81 1114.64 Q1649.81 1121.75 1651.62 1125.32 Q1653.45 1128.86 1657.06 1128.86 Q1660.69 1128.86 1662.5 1125.32 Q1664.33 1121.75 1664.33 1114.64 Q1664.33 1107.51 1662.5 1103.97 Q1660.69 1100.41 1657.06 1100.41 M1657.06 1096.7 Q1662.87 1096.7 1665.92 1101.31 Q1669 1105.89 1669 1114.64 Q1669 1123.37 1665.92 1127.98 Q1662.87 1132.56 1657.06 1132.56 Q1651.25 1132.56 1648.17 1127.98 Q1645.11 1123.37 1645.11 1114.64 Q1645.11 1105.89 1648.17 1101.31 Q1651.25 1096.7 1657.06 1096.7 Z\" fill=\"#000000\" fill-rule=\"evenodd\" fill-opacity=\"1\" /><path clip-path=\"url(#clip030)\" d=\"M1677.22 1126.01 L1682.1 1126.01 L1682.1 1131.89 L1677.22 1131.89 L1677.22 1126.01 Z\" fill=\"#000000\" fill-rule=\"evenodd\" fill-opacity=\"1\" /><path clip-path=\"url(#clip030)\" d=\"M1692.34 1097.33 L1710.69 1097.33 L1710.69 1101.27 L1696.62 1101.27 L1696.62 1109.74 Q1697.64 1109.39 1698.65 1109.23 Q1699.67 1109.04 1700.69 1109.04 Q1706.48 1109.04 1709.86 1112.21 Q1713.24 1115.39 1713.24 1120.8 Q1713.24 1126.38 1709.77 1129.48 Q1706.29 1132.56 1699.97 1132.56 Q1697.8 1132.56 1695.53 1132.19 Q1693.28 1131.82 1690.88 1131.08 L1690.88 1126.38 Q1692.96 1127.51 1695.18 1128.07 Q1697.4 1128.63 1699.88 1128.63 Q1703.89 1128.63 1706.22 1126.52 Q1708.56 1124.41 1708.56 1120.8 Q1708.56 1117.19 1706.22 1115.08 Q1703.89 1112.98 1699.88 1112.98 Q1698.01 1112.98 1696.13 1113.39 Q1694.28 1113.81 1692.34 1114.69 L1692.34 1097.33 Z\" fill=\"#000000\" fill-rule=\"evenodd\" fill-opacity=\"1\" /><path clip-path=\"url(#clip030)\" d=\"M1732.45 1100.41 Q1728.84 1100.41 1727.01 1103.97 Q1725.21 1107.51 1725.21 1114.64 Q1725.21 1121.75 1727.01 1125.32 Q1728.84 1128.86 1732.45 1128.86 Q1736.08 1128.86 1737.89 1125.32 Q1739.72 1121.75 1739.72 1114.64 Q1739.72 1107.51 1737.89 1103.97 Q1736.08 1100.41 1732.45 1100.41 M1732.45 1096.7 Q1738.26 1096.7 1741.32 1101.31 Q1744.39 1105.89 1744.39 1114.64 Q1744.39 1123.37 1741.32 1127.98 Q1738.26 1132.56 1732.45 1132.56 Q1726.64 1132.56 1723.56 1127.98 Q1720.51 1123.37 1720.51 1114.64 Q1720.51 1105.89 1723.56 1101.31 Q1726.64 1096.7 1732.45 1096.7 Z\" fill=\"#000000\" fill-rule=\"evenodd\" fill-opacity=\"1\" /><path clip-path=\"url(#clip030)\" d=\"M2345.29 1100.41 Q2341.68 1100.41 2339.85 1103.97 Q2338.05 1107.51 2338.05 1114.64 Q2338.05 1121.75 2339.85 1125.32 Q2341.68 1128.86 2345.29 1128.86 Q2348.93 1128.86 2350.73 1125.32 Q2352.56 1121.75 2352.56 1114.64 Q2352.56 1107.51 2350.73 1103.97 Q2348.93 1100.41 2345.29 1100.41 M2345.29 1096.7 Q2351.1 1096.7 2354.16 1101.31 Q2357.24 1105.89 2357.24 1114.64 Q2357.24 1123.37 2354.16 1127.98 Q2351.1 1132.56 2345.29 1132.56 Q2339.48 1132.56 2336.4 1127.98 Q2333.35 1123.37 2333.35 1114.64 Q2333.35 1105.89 2336.4 1101.31 Q2339.48 1096.7 2345.29 1096.7 Z\" fill=\"#000000\" fill-rule=\"evenodd\" fill-opacity=\"1\" /><path clip-path=\"url(#clip030)\" d=\"M2365.45 1126.01 L2370.34 1126.01 L2370.34 1131.89 L2365.45 1131.89 L2365.45 1126.01 Z\" fill=\"#000000\" fill-rule=\"evenodd\" fill-opacity=\"1\" /><path clip-path=\"url(#clip030)\" d=\"M2379.34 1097.33 L2401.56 1097.33 L2401.56 1099.32 L2389.02 1131.89 L2384.13 1131.89 L2395.94 1101.27 L2379.34 1101.27 L2379.34 1097.33 Z\" fill=\"#000000\" fill-rule=\"evenodd\" fill-opacity=\"1\" /><path clip-path=\"url(#clip030)\" d=\"M2410.73 1097.33 L2429.09 1097.33 L2429.09 1101.27 L2415.01 1101.27 L2415.01 1109.74 Q2416.03 1109.39 2417.05 1109.23 Q2418.07 1109.04 2419.09 1109.04 Q2424.87 1109.04 2428.25 1112.21 Q2431.63 1115.39 2431.63 1120.8 Q2431.63 1126.38 2428.16 1129.48 Q2424.69 1132.56 2418.37 1132.56 Q2416.19 1132.56 2413.93 1132.19 Q2411.68 1131.82 2409.27 1131.08 L2409.27 1126.38 Q2411.36 1127.51 2413.58 1128.07 Q2415.8 1128.63 2418.28 1128.63 Q2422.28 1128.63 2424.62 1126.52 Q2426.96 1124.41 2426.96 1120.8 Q2426.96 1117.19 2424.62 1115.08 Q2422.28 1112.98 2418.28 1112.98 Q2416.4 1112.98 2414.53 1113.39 Q2412.68 1113.81 2410.73 1114.69 L2410.73 1097.33 Z\" fill=\"#000000\" fill-rule=\"evenodd\" fill-opacity=\"1\" /><path clip-path=\"url(#clip030)\" d=\"M3022.3 1127.95 L3029.94 1127.95 L3029.94 1101.59 L3021.63 1103.26 L3021.63 1099 L3029.89 1097.33 L3034.57 1097.33 L3034.57 1127.95 L3042.21 1127.95 L3042.21 1131.89 L3022.3 1131.89 L3022.3 1127.95 Z\" fill=\"#000000\" fill-rule=\"evenodd\" fill-opacity=\"1\" /><path clip-path=\"url(#clip030)\" d=\"M3051.65 1126.01 L3056.54 1126.01 L3056.54 1131.89 L3051.65 1131.89 L3051.65 1126.01 Z\" fill=\"#000000\" fill-rule=\"evenodd\" fill-opacity=\"1\" /><path clip-path=\"url(#clip030)\" d=\"M3076.72 1100.41 Q3073.11 1100.41 3071.28 1103.97 Q3069.48 1107.51 3069.48 1114.64 Q3069.48 1121.75 3071.28 1125.32 Q3073.11 1128.86 3076.72 1128.86 Q3080.35 1128.86 3082.16 1125.32 Q3083.99 1121.75 3083.99 1114.64 Q3083.99 1107.51 3082.16 1103.97 Q3080.35 1100.41 3076.72 1100.41 M3076.72 1096.7 Q3082.53 1096.7 3085.59 1101.31 Q3088.66 1105.89 3088.66 1114.64 Q3088.66 1123.37 3085.59 1127.98 Q3082.53 1132.56 3076.72 1132.56 Q3070.91 1132.56 3067.83 1127.98 Q3064.78 1123.37 3064.78 1114.64 Q3064.78 1105.89 3067.83 1101.31 Q3070.91 1096.7 3076.72 1096.7 Z\" fill=\"#000000\" fill-rule=\"evenodd\" fill-opacity=\"1\" /><path clip-path=\"url(#clip030)\" d=\"M3106.88 1100.41 Q3103.27 1100.41 3101.44 1103.97 Q3099.64 1107.51 3099.64 1114.64 Q3099.64 1121.75 3101.44 1125.32 Q3103.27 1128.86 3106.88 1128.86 Q3110.52 1128.86 3112.32 1125.32 Q3114.15 1121.75 3114.15 1114.64 Q3114.15 1107.51 3112.32 1103.97 Q3110.52 1100.41 3106.88 1100.41 M3106.88 1096.7 Q3112.69 1096.7 3115.75 1101.31 Q3118.83 1105.89 3118.83 1114.64 Q3118.83 1123.37 3115.75 1127.98 Q3112.69 1132.56 3106.88 1132.56 Q3101.07 1132.56 3097.99 1127.98 Q3094.94 1123.37 3094.94 1114.64 Q3094.94 1105.89 3097.99 1101.31 Q3101.07 1096.7 3106.88 1096.7 Z\" fill=\"#000000\" fill-rule=\"evenodd\" fill-opacity=\"1\" /><path clip-path=\"url(#clip030)\" d=\"M1704.88 1197.36 L1684.6 1197.36 Q1685.08 1206.87 1687.27 1210.91 Q1690.01 1215.88 1694.75 1215.88 Q1699.53 1215.88 1702.17 1210.88 Q1704.49 1206.49 1704.88 1197.36 M1704.78 1191.94 Q1703.89 1182.91 1702.17 1179.72 Q1699.43 1174.69 1694.75 1174.69 Q1689.88 1174.69 1687.31 1179.66 Q1685.27 1183.67 1684.66 1191.94 L1704.78 1191.94 M1694.75 1169.92 Q1702.39 1169.92 1706.75 1176.67 Q1711.11 1183.38 1711.11 1195.29 Q1711.11 1207.16 1706.75 1213.91 Q1702.39 1220.69 1694.75 1220.69 Q1687.08 1220.69 1682.75 1213.91 Q1678.39 1207.16 1678.39 1195.29 Q1678.39 1183.38 1682.75 1176.67 Q1687.08 1169.92 1694.75 1169.92 Z\" fill=\"#000000\" fill-rule=\"evenodd\" fill-opacity=\"1\" /><polyline clip-path=\"url(#clip032)\" style=\"stroke:#000000; stroke-linecap:butt; stroke-linejoin:round; stroke-width:2; stroke-opacity:0.1; fill:none\" points=\"\n",
       "  236.752,1034.34 3152.76,1034.34 \n",
       "  \"/>\n",
       "<polyline clip-path=\"url(#clip032)\" style=\"stroke:#000000; stroke-linecap:butt; stroke-linejoin:round; stroke-width:2; stroke-opacity:0.1; fill:none\" points=\"\n",
       "  236.752,710.898 3152.76,710.898 \n",
       "  \"/>\n",
       "<polyline clip-path=\"url(#clip032)\" style=\"stroke:#000000; stroke-linecap:butt; stroke-linejoin:round; stroke-width:2; stroke-opacity:0.1; fill:none\" points=\"\n",
       "  236.752,387.457 3152.76,387.457 \n",
       "  \"/>\n",
       "<polyline clip-path=\"url(#clip032)\" style=\"stroke:#000000; stroke-linecap:butt; stroke-linejoin:round; stroke-width:2; stroke-opacity:0.1; fill:none\" points=\"\n",
       "  236.752,64.0151 3152.76,64.0151 \n",
       "  \"/>\n",
       "<polyline clip-path=\"url(#clip030)\" style=\"stroke:#000000; stroke-linecap:butt; stroke-linejoin:round; stroke-width:4; stroke-opacity:1; fill:none\" points=\"\n",
       "  236.752,1063.09 236.752,47.2441 \n",
       "  \"/>\n",
       "<polyline clip-path=\"url(#clip030)\" style=\"stroke:#000000; stroke-linecap:butt; stroke-linejoin:round; stroke-width:4; stroke-opacity:1; fill:none\" points=\"\n",
       "  236.752,1034.34 255.65,1034.34 \n",
       "  \"/>\n",
       "<polyline clip-path=\"url(#clip030)\" style=\"stroke:#000000; stroke-linecap:butt; stroke-linejoin:round; stroke-width:4; stroke-opacity:1; fill:none\" points=\"\n",
       "  236.752,710.898 255.65,710.898 \n",
       "  \"/>\n",
       "<polyline clip-path=\"url(#clip030)\" style=\"stroke:#000000; stroke-linecap:butt; stroke-linejoin:round; stroke-width:4; stroke-opacity:1; fill:none\" points=\"\n",
       "  236.752,387.457 255.65,387.457 \n",
       "  \"/>\n",
       "<polyline clip-path=\"url(#clip030)\" style=\"stroke:#000000; stroke-linecap:butt; stroke-linejoin:round; stroke-width:4; stroke-opacity:1; fill:none\" points=\"\n",
       "  236.752,64.0151 255.65,64.0151 \n",
       "  \"/>\n",
       "<path clip-path=\"url(#clip030)\" d=\"M101.415 1020.14 Q97.8034 1020.14 95.9748 1023.7 Q94.1692 1027.24 94.1692 1034.37 Q94.1692 1041.48 95.9748 1045.05 Q97.8034 1048.59 101.415 1048.59 Q105.049 1048.59 106.854 1045.05 Q108.683 1041.48 108.683 1034.37 Q108.683 1027.24 106.854 1023.7 Q105.049 1020.14 101.415 1020.14 M101.415 1016.43 Q107.225 1016.43 110.28 1021.04 Q113.359 1025.62 113.359 1034.37 Q113.359 1043.1 110.28 1047.71 Q107.225 1052.29 101.415 1052.29 Q95.6044 1052.29 92.5257 1047.71 Q89.4702 1043.1 89.4702 1034.37 Q89.4702 1025.62 92.5257 1021.04 Q95.6044 1016.43 101.415 1016.43 Z\" fill=\"#000000\" fill-rule=\"evenodd\" fill-opacity=\"1\" /><path clip-path=\"url(#clip030)\" d=\"M121.576 1045.74 L126.461 1045.74 L126.461 1051.62 L121.576 1051.62 L121.576 1045.74 Z\" fill=\"#000000\" fill-rule=\"evenodd\" fill-opacity=\"1\" /><path clip-path=\"url(#clip030)\" d=\"M146.646 1020.14 Q143.035 1020.14 141.206 1023.7 Q139.4 1027.24 139.4 1034.37 Q139.4 1041.48 141.206 1045.05 Q143.035 1048.59 146.646 1048.59 Q150.28 1048.59 152.086 1045.05 Q153.914 1041.48 153.914 1034.37 Q153.914 1027.24 152.086 1023.7 Q150.28 1020.14 146.646 1020.14 M146.646 1016.43 Q152.456 1016.43 155.511 1021.04 Q158.59 1025.62 158.59 1034.37 Q158.59 1043.1 155.511 1047.71 Q152.456 1052.29 146.646 1052.29 Q140.836 1052.29 137.757 1047.71 Q134.701 1043.1 134.701 1034.37 Q134.701 1025.62 137.757 1021.04 Q140.836 1016.43 146.646 1016.43 Z\" fill=\"#000000\" fill-rule=\"evenodd\" fill-opacity=\"1\" /><path clip-path=\"url(#clip030)\" d=\"M176.808 1020.14 Q173.197 1020.14 171.368 1023.7 Q169.562 1027.24 169.562 1034.37 Q169.562 1041.48 171.368 1045.05 Q173.197 1048.59 176.808 1048.59 Q180.442 1048.59 182.247 1045.05 Q184.076 1041.48 184.076 1034.37 Q184.076 1027.24 182.247 1023.7 Q180.442 1020.14 176.808 1020.14 M176.808 1016.43 Q182.618 1016.43 185.673 1021.04 Q188.752 1025.62 188.752 1034.37 Q188.752 1043.1 185.673 1047.71 Q182.618 1052.29 176.808 1052.29 Q170.997 1052.29 167.919 1047.71 Q164.863 1043.1 164.863 1034.37 Q164.863 1025.62 167.919 1021.04 Q170.997 1016.43 176.808 1016.43 Z\" fill=\"#000000\" fill-rule=\"evenodd\" fill-opacity=\"1\" /><path clip-path=\"url(#clip030)\" d=\"M102.41 696.697 Q98.7988 696.697 96.9701 700.262 Q95.1646 703.803 95.1646 710.933 Q95.1646 718.039 96.9701 721.604 Q98.7988 725.146 102.41 725.146 Q106.044 725.146 107.85 721.604 Q109.678 718.039 109.678 710.933 Q109.678 703.803 107.85 700.262 Q106.044 696.697 102.41 696.697 M102.41 692.993 Q108.22 692.993 111.276 697.599 Q114.354 702.183 114.354 710.933 Q114.354 719.66 111.276 724.266 Q108.22 728.849 102.41 728.849 Q96.5997 728.849 93.5211 724.266 Q90.4655 719.66 90.4655 710.933 Q90.4655 702.183 93.5211 697.599 Q96.5997 692.993 102.41 692.993 Z\" fill=\"#000000\" fill-rule=\"evenodd\" fill-opacity=\"1\" /><path clip-path=\"url(#clip030)\" d=\"M122.572 722.298 L127.456 722.298 L127.456 728.178 L122.572 728.178 L122.572 722.298 Z\" fill=\"#000000\" fill-rule=\"evenodd\" fill-opacity=\"1\" /><path clip-path=\"url(#clip030)\" d=\"M147.641 696.697 Q144.03 696.697 142.201 700.262 Q140.396 703.803 140.396 710.933 Q140.396 718.039 142.201 721.604 Q144.03 725.146 147.641 725.146 Q151.275 725.146 153.081 721.604 Q154.91 718.039 154.91 710.933 Q154.91 703.803 153.081 700.262 Q151.275 696.697 147.641 696.697 M147.641 692.993 Q153.451 692.993 156.507 697.599 Q159.586 702.183 159.586 710.933 Q159.586 719.66 156.507 724.266 Q153.451 728.849 147.641 728.849 Q141.831 728.849 138.752 724.266 Q135.697 719.66 135.697 710.933 Q135.697 702.183 138.752 697.599 Q141.831 692.993 147.641 692.993 Z\" fill=\"#000000\" fill-rule=\"evenodd\" fill-opacity=\"1\" /><path clip-path=\"url(#clip030)\" d=\"M167.849 693.618 L186.206 693.618 L186.206 697.553 L172.132 697.553 L172.132 706.025 Q173.15 705.678 174.169 705.516 Q175.187 705.331 176.206 705.331 Q181.993 705.331 185.372 708.502 Q188.752 711.673 188.752 717.09 Q188.752 722.669 185.28 725.771 Q181.808 728.849 175.488 728.849 Q173.312 728.849 171.044 728.479 Q168.798 728.109 166.391 727.368 L166.391 722.669 Q168.474 723.803 170.697 724.359 Q172.919 724.914 175.396 724.914 Q179.4 724.914 181.738 722.808 Q184.076 720.701 184.076 717.09 Q184.076 713.479 181.738 711.373 Q179.4 709.266 175.396 709.266 Q173.521 709.266 171.646 709.683 Q169.794 710.099 167.849 710.979 L167.849 693.618 Z\" fill=\"#000000\" fill-rule=\"evenodd\" fill-opacity=\"1\" /><path clip-path=\"url(#clip030)\" d=\"M101.415 373.255 Q97.8034 373.255 95.9748 376.82 Q94.1692 380.362 94.1692 387.491 Q94.1692 394.598 95.9748 398.163 Q97.8034 401.704 101.415 401.704 Q105.049 401.704 106.854 398.163 Q108.683 394.598 108.683 387.491 Q108.683 380.362 106.854 376.82 Q105.049 373.255 101.415 373.255 M101.415 369.552 Q107.225 369.552 110.28 374.158 Q113.359 378.741 113.359 387.491 Q113.359 396.218 110.28 400.825 Q107.225 405.408 101.415 405.408 Q95.6044 405.408 92.5257 400.825 Q89.4702 396.218 89.4702 387.491 Q89.4702 378.741 92.5257 374.158 Q95.6044 369.552 101.415 369.552 Z\" fill=\"#000000\" fill-rule=\"evenodd\" fill-opacity=\"1\" /><path clip-path=\"url(#clip030)\" d=\"M121.576 398.857 L126.461 398.857 L126.461 404.737 L121.576 404.737 L121.576 398.857 Z\" fill=\"#000000\" fill-rule=\"evenodd\" fill-opacity=\"1\" /><path clip-path=\"url(#clip030)\" d=\"M137.456 400.801 L145.095 400.801 L145.095 374.436 L136.785 376.102 L136.785 371.843 L145.049 370.177 L149.724 370.177 L149.724 400.801 L157.363 400.801 L157.363 404.737 L137.456 404.737 L137.456 400.801 Z\" fill=\"#000000\" fill-rule=\"evenodd\" fill-opacity=\"1\" /><path clip-path=\"url(#clip030)\" d=\"M176.808 373.255 Q173.197 373.255 171.368 376.82 Q169.562 380.362 169.562 387.491 Q169.562 394.598 171.368 398.163 Q173.197 401.704 176.808 401.704 Q180.442 401.704 182.247 398.163 Q184.076 394.598 184.076 387.491 Q184.076 380.362 182.247 376.82 Q180.442 373.255 176.808 373.255 M176.808 369.552 Q182.618 369.552 185.673 374.158 Q188.752 378.741 188.752 387.491 Q188.752 396.218 185.673 400.825 Q182.618 405.408 176.808 405.408 Q170.997 405.408 167.919 400.825 Q164.863 396.218 164.863 387.491 Q164.863 378.741 167.919 374.158 Q170.997 369.552 176.808 369.552 Z\" fill=\"#000000\" fill-rule=\"evenodd\" fill-opacity=\"1\" /><path clip-path=\"url(#clip030)\" d=\"M102.41 49.8138 Q98.7988 49.8138 96.9701 53.3786 Q95.1646 56.9203 95.1646 64.0499 Q95.1646 71.1563 96.9701 74.7211 Q98.7988 78.2627 102.41 78.2627 Q106.044 78.2627 107.85 74.7211 Q109.678 71.1563 109.678 64.0499 Q109.678 56.9203 107.85 53.3786 Q106.044 49.8138 102.41 49.8138 M102.41 46.1101 Q108.22 46.1101 111.276 50.7166 Q114.354 55.2999 114.354 64.0499 Q114.354 72.7767 111.276 77.3831 Q108.22 81.9664 102.41 81.9664 Q96.5997 81.9664 93.5211 77.3831 Q90.4655 72.7767 90.4655 64.0499 Q90.4655 55.2999 93.5211 50.7166 Q96.5997 46.1101 102.41 46.1101 Z\" fill=\"#000000\" fill-rule=\"evenodd\" fill-opacity=\"1\" /><path clip-path=\"url(#clip030)\" d=\"M122.572 75.4155 L127.456 75.4155 L127.456 81.2951 L122.572 81.2951 L122.572 75.4155 Z\" fill=\"#000000\" fill-rule=\"evenodd\" fill-opacity=\"1\" /><path clip-path=\"url(#clip030)\" d=\"M138.451 77.36 L146.09 77.36 L146.09 50.9944 L137.78 52.661 L137.78 48.4018 L146.044 46.7351 L150.72 46.7351 L150.72 77.36 L158.359 77.36 L158.359 81.2951 L138.451 81.2951 L138.451 77.36 Z\" fill=\"#000000\" fill-rule=\"evenodd\" fill-opacity=\"1\" /><path clip-path=\"url(#clip030)\" d=\"M167.849 46.7351 L186.206 46.7351 L186.206 50.6703 L172.132 50.6703 L172.132 59.1425 Q173.15 58.7953 174.169 58.6332 Q175.187 58.448 176.206 58.448 Q181.993 58.448 185.372 61.6193 Q188.752 64.7906 188.752 70.2072 Q188.752 75.7859 185.28 78.8877 Q181.808 81.9664 175.488 81.9664 Q173.312 81.9664 171.044 81.5961 Q168.798 81.2257 166.391 80.485 L166.391 75.7859 Q168.474 76.9202 170.697 77.4757 Q172.919 78.0313 175.396 78.0313 Q179.4 78.0313 181.738 75.9248 Q184.076 73.8183 184.076 70.2072 Q184.076 66.5961 181.738 64.4897 Q179.4 62.3832 175.396 62.3832 Q173.521 62.3832 171.646 62.7999 Q169.794 63.2165 167.849 64.0962 L167.849 46.7351 Z\" fill=\"#000000\" fill-rule=\"evenodd\" fill-opacity=\"1\" /><path clip-path=\"url(#clip030)\" d=\"M21.867 645.655 L40.7731 645.655 L40.7731 651.544 L-8.4338 651.544 L-8.4338 645.655 L-3.02295 645.655 Q-6.2058 643.809 -7.73357 641.009 Q-9.29317 638.176 -9.29317 634.261 Q-9.29317 627.768 -4.13695 623.726 Q1.01927 619.652 9.42201 619.652 Q17.8247 619.652 22.981 623.726 Q28.1372 627.768 28.1372 634.261 Q28.1372 638.176 26.6094 641.009 Q25.0498 643.809 21.867 645.655 M9.42201 625.731 Q2.96082 625.731 -0.699466 628.404 Q-4.39158 631.046 -4.39158 635.693 Q-4.39158 640.34 -0.699466 643.014 Q2.96082 645.655 9.42201 645.655 Q15.8832 645.655 19.5753 643.014 Q23.2356 640.34 23.2356 635.693 Q23.2356 631.046 19.5753 628.404 Q15.8832 625.731 9.42201 625.731 Z\" fill=\"#000000\" fill-rule=\"evenodd\" fill-opacity=\"1\" /><path clip-path=\"url(#clip030)\" d=\"M-22.2474 595.876 Q-14.9268 600.141 -7.7654 602.21 Q-0.60398 604.278 6.74841 604.278 Q14.1008 604.278 21.3259 602.21 Q28.5191 600.109 35.8079 595.876 L35.8079 600.968 Q28.3282 605.743 21.1031 608.13 Q13.878 610.485 6.74841 610.485 Q-0.349352 610.485 -7.5426 608.13 Q-14.7358 605.774 -22.2474 600.968 L-22.2474 595.876 Z\" fill=\"#000000\" fill-rule=\"evenodd\" fill-opacity=\"1\" /><path clip-path=\"url(#clip030)\" d=\"M-15.0223 577.829 L21.9306 577.829 L21.9306 570.063 Q21.9306 560.228 17.4746 555.676 Q13.0186 551.093 3.40641 551.093 Q-6.14215 551.093 -10.5663 555.676 Q-15.0223 560.228 -15.0223 570.063 L-15.0223 577.829 M-20.3058 584.258 L-20.3058 571.049 Q-20.3058 557.236 -14.5449 550.775 Q-8.81574 544.313 3.40641 544.313 Q15.6922 544.313 21.4532 550.806 Q27.2142 557.299 27.2142 571.049 L27.2142 584.258 L-20.3058 584.258 Z\" fill=\"#000000\" fill-rule=\"evenodd\" fill-opacity=\"1\" /><path clip-path=\"url(#clip030)\" d=\"M-22.5975 526.776 L42.5873 526.776 L42.5873 532.187 L-22.5975 532.187 L-22.5975 526.776 Z\" fill=\"#000000\" fill-rule=\"evenodd\" fill-opacity=\"1\" /><path clip-path=\"url(#clip030)\" d=\"M4.6159 488.423 L4.6159 508.697 Q14.1326 508.22 18.1749 506.024 Q23.1401 503.286 23.1401 498.544 Q23.1401 493.77 18.143 491.128 Q13.7507 488.804 4.6159 488.423 M-0.794952 488.518 Q-9.83426 489.409 -13.0171 491.128 Q-18.046 493.865 -18.046 498.544 Q-18.046 503.414 -13.0808 505.992 Q-9.07037 508.029 -0.794952 508.634 L-0.794952 488.518 M-22.8203 498.544 Q-22.8203 490.905 -16.0726 486.545 Q-9.35683 482.184 2.54704 482.184 Q14.4191 482.184 21.1667 486.545 Q27.9462 490.905 27.9462 498.544 Q27.9462 506.215 21.1667 510.543 Q14.4191 514.904 2.54704 514.904 Q-9.35683 514.904 -16.0726 510.543 Q-22.8203 506.215 -22.8203 498.544 Z\" fill=\"#000000\" fill-rule=\"evenodd\" fill-opacity=\"1\" /><path clip-path=\"url(#clip030)\" d=\"M-22.2474 473.399 L-22.2474 468.307 Q-14.7358 463.533 -7.5426 461.177 Q-0.349352 458.79 6.74841 458.79 Q13.878 458.79 21.1031 461.177 Q28.3282 463.533 35.8079 468.307 L35.8079 473.399 Q28.5191 469.166 21.3259 467.097 Q14.1008 464.997 6.74841 464.997 Q-0.60398 464.997 -7.7654 467.097 Q-14.9268 469.166 -22.2474 473.399 Z\" fill=\"#000000\" fill-rule=\"evenodd\" fill-opacity=\"1\" /><polyline clip-path=\"url(#clip032)\" style=\"stroke:#009af9; stroke-linecap:butt; stroke-linejoin:round; stroke-width:8; stroke-opacity:1; fill:none\" points=\"\n",
       "  319.28,1034.34 347.068,970.311 374.855,908.883 402.642,850.015 430.43,793.667 458.217,739.798 486.005,688.37 513.792,639.343 541.579,592.675 569.367,548.327 \n",
       "  597.154,506.259 624.941,466.431 652.729,428.804 680.516,393.336 708.303,359.989 736.091,328.721 763.878,299.494 791.665,272.266 819.453,246.999 847.24,223.652 \n",
       "  875.027,202.184 902.815,182.557 930.602,164.73 958.389,148.663 986.177,134.316 1013.96,121.649 1041.75,110.622 1069.54,101.195 1097.33,93.3282 1125.11,86.9814 \n",
       "  1152.9,82.1146 1180.69,78.6878 1208.48,76.6611 1236.26,75.9944 1264.05,76.6478 1291.84,78.5812 1319.62,81.7546 1347.41,86.128 1375.2,91.6615 1402.99,98.315 \n",
       "  1430.77,106.049 1458.56,114.822 1486.35,124.596 1514.14,135.329 1541.92,146.983 1569.71,159.517 1597.5,172.89 1625.29,187.064 1653.07,201.998 1680.86,217.651 \n",
       "  1708.65,233.985 1736.43,250.959 1764.22,268.533 1792.01,286.667 1819.8,305.32 1847.58,324.454 1875.37,344.028 1903.16,364.002 1930.95,384.336 1958.73,404.99 \n",
       "  1986.52,425.924 2014.31,447.097 2042.1,468.471 2069.88,490.005 2097.67,511.659 2125.46,533.393 2153.25,555.167 2181.03,576.941 2208.82,598.675 2236.61,620.329 \n",
       "  2264.39,641.863 2292.18,663.236 2319.97,684.41 2347.76,705.344 2375.54,725.998 2403.33,746.332 2431.12,766.306 2458.91,785.88 2486.69,805.013 2514.48,823.667 \n",
       "  2542.27,841.801 2570.06,859.375 2597.84,876.349 2625.63,892.682 2653.42,908.336 2681.2,923.27 2708.99,937.444 2736.78,950.817 2764.57,963.351 2792.35,975.005 \n",
       "  2820.14,985.738 2847.93,995.512 2875.72,1004.29 2903.5,1012.02 2931.29,1018.67 2959.08,1024.21 2986.87,1028.58 3014.65,1031.75 3042.44,1033.69 3070.23,1034.34 \n",
       "  \n",
       "  \"/>\n",
       "</svg>\n"
      ]
     },
     "execution_count": 3,
     "metadata": {},
     "output_type": "execute_result"
    }
   ],
   "source": [
    "# Data set\n",
    "D = [0 0 1]\n",
    "\n",
    "# Range of parameters\n",
    "θ = range(0, stop=1, length=100)\n",
    "\n",
    "# Likelihood function\n",
    "likelihood(D, θ) = θ.^(sum(D .== 1)) .* (1 .- θ).^(sum((1 .- D) .== 1))\n",
    "\n",
    "# Plot likelihood\n",
    "plot(θ, likelihood(D, θ), linewidth=2, label=\"\", xlabel=\"θ\", ylabel=\"p(D|θ)\", size=(800,300))"
   ]
  },
  {
   "cell_type": "markdown",
   "metadata": {
    "nbgrader": {
     "grade": false,
     "grade_id": "cell-34af111d992edccd",
     "locked": true,
     "schema_version": 3,
     "solution": false,
     "task": false
    }
   },
   "source": [
    "### **1) What is the likelihood of $\\theta = 0.5$?**"
   ]
  },
  {
   "cell_type": "code",
   "execution_count": 4,
   "metadata": {
    "nbgrader": {
     "grade": false,
     "grade_id": "cell-2b06871cebe3fe1d",
     "locked": false,
     "schema_version": 3,
     "solution": true,
     "task": false
    }
   },
   "outputs": [
    {
     "name": "stdout",
     "output_type": "stream",
     "text": [
      "1) Likelihood = 0.125\n"
     ]
    }
   ],
   "source": [
    "# Create a variable \"answer_1\" with your value for the likelihood\n",
    "\n",
    "### BEGIN SOLUTION\n",
    "answer_1 = likelihood(D, 0.5)\n",
    "### END SOLUTION\n",
    "\n",
    "# Print answer\n",
    "println(\"1) Likelihood = \"*string(answer_1))"
   ]
  },
  {
   "cell_type": "code",
   "execution_count": 5,
   "metadata": {
    "nbgrader": {
     "grade": true,
     "grade_id": "cell-e7c10e3a7fa570f7",
     "locked": true,
     "points": 1,
     "schema_version": 3,
     "solution": false,
     "task": false
    }
   },
   "outputs": [],
   "source": [
    "# This cell tests your answer\n",
    "@assert typeof(answer_1) == Float64\n",
    "### BEGIN HIDDEN TESTS\n",
    "@assert abs(answer_1 - 0.125) < 1e-3\n",
    "### END HIDDEN TESTS"
   ]
  },
  {
   "cell_type": "markdown",
   "metadata": {
    "nbgrader": {
     "grade": false,
     "grade_id": "cell-a58d9bd6399cc06e",
     "locked": true,
     "schema_version": 3,
     "solution": false,
     "task": false
    }
   },
   "source": [
    "Suppose we had more observations. These will reshape the likelihood, but also re-scale it.\n",
    "\n",
    "### **2) Add the following data $[0\\ 1\\ 1]$ to your set and re-compute the likelihood of $\\theta = 0.5$.**"
   ]
  },
  {
   "cell_type": "code",
   "execution_count": 6,
   "metadata": {
    "nbgrader": {
     "grade": false,
     "grade_id": "cell-743510b4bc1ad03b",
     "locked": false,
     "schema_version": 3,
     "solution": true,
     "task": false
    }
   },
   "outputs": [
    {
     "name": "stdout",
     "output_type": "stream",
     "text": [
      "2) Likelihood = 0.015625\n"
     ]
    }
   ],
   "source": [
    "# Create a variable \"answer_2\" with your value for the likelihood\n",
    "\n",
    "### BEGIN SOLUTION\n",
    "D = [0 0 1 0 1 1]\n",
    "\n",
    "answer_2 = likelihood(D, 0.5)\n",
    "### END SOLUTION\n",
    "\n",
    "# Print answer\n",
    "println(\"2) Likelihood = \"*string(answer_2))"
   ]
  },
  {
   "cell_type": "code",
   "execution_count": 7,
   "metadata": {
    "nbgrader": {
     "grade": true,
     "grade_id": "cell-9556fa448f8c8594",
     "locked": true,
     "points": 2,
     "schema_version": 3,
     "solution": false,
     "task": false
    }
   },
   "outputs": [],
   "source": [
    "# This cell tests your answer\n",
    "@assert typeof(answer_2) == Float64\n",
    "### BEGIN HIDDEN TESTS\n",
    "@assert abs(answer_2 - 0.015625) < 1e-4\n",
    "### END HIDDEN TESTS"
   ]
  },
  {
   "cell_type": "markdown",
   "metadata": {
    "nbgrader": {
     "grade": false,
     "grade_id": "cell-1df07b963877fdc5",
     "locked": true,
     "schema_version": 3,
     "solution": false,
     "task": false
    }
   },
   "source": [
    "The likelihood seems to have gone down. Let's plot the likelihood function again, for the larger data set."
   ]
  },
  {
   "cell_type": "code",
   "execution_count": 8,
   "metadata": {},
   "outputs": [
    {
     "data": {
      "text/plain": [
       "1×6 Matrix{Int64}:\n",
       " 0  0  1  0  1  1"
      ]
     },
     "execution_count": 8,
     "metadata": {},
     "output_type": "execute_result"
    }
   ],
   "source": [
    "D = [0 0 1]\n",
    "[D 0 1 1]"
   ]
  },
  {
   "cell_type": "code",
   "execution_count": 9,
   "metadata": {
    "nbgrader": {
     "grade": false,
     "grade_id": "cell-ae05250356723f5d",
     "locked": true,
     "schema_version": 3,
     "solution": false,
     "task": false
    }
   },
   "outputs": [
    {
     "data": {
      "image/svg+xml": [
       "<?xml version=\"1.0\" encoding=\"utf-8\"?>\n",
       "<svg xmlns=\"http://www.w3.org/2000/svg\" xmlns:xlink=\"http://www.w3.org/1999/xlink\" width=\"800\" height=\"300\" viewBox=\"0 0 3200 1200\">\n",
       "<defs>\n",
       "  <clipPath id=\"clip070\">\n",
       "    <rect x=\"0\" y=\"0\" width=\"3200\" height=\"1200\"/>\n",
       "  </clipPath>\n",
       "</defs>\n",
       "<path clip-path=\"url(#clip070)\" d=\"\n",
       "M0 1200 L3200 1200 L3200 0 L0 0  Z\n",
       "  \" fill=\"#ffffff\" fill-rule=\"evenodd\" fill-opacity=\"1\"/>\n",
       "<defs>\n",
       "  <clipPath id=\"clip071\">\n",
       "    <rect x=\"640\" y=\"0\" width=\"2241\" height=\"1200\"/>\n",
       "  </clipPath>\n",
       "</defs>\n",
       "<path clip-path=\"url(#clip070)\" d=\"\n",
       "M266.914 1063.09 L3152.76 1063.09 L3152.76 47.2441 L266.914 47.2441  Z\n",
       "  \" fill=\"#ffffff\" fill-rule=\"evenodd\" fill-opacity=\"1\"/>\n",
       "<defs>\n",
       "  <clipPath id=\"clip072\">\n",
       "    <rect x=\"266\" y=\"47\" width=\"2887\" height=\"1017\"/>\n",
       "  </clipPath>\n",
       "</defs>\n",
       "<polyline clip-path=\"url(#clip072)\" style=\"stroke:#000000; stroke-linecap:butt; stroke-linejoin:round; stroke-width:2; stroke-opacity:0.1; fill:none\" points=\"\n",
       "  348.589,1063.09 348.589,47.2441 \n",
       "  \"/>\n",
       "<polyline clip-path=\"url(#clip072)\" style=\"stroke:#000000; stroke-linecap:butt; stroke-linejoin:round; stroke-width:2; stroke-opacity:0.1; fill:none\" points=\"\n",
       "  1029.21,1063.09 1029.21,47.2441 \n",
       "  \"/>\n",
       "<polyline clip-path=\"url(#clip072)\" style=\"stroke:#000000; stroke-linecap:butt; stroke-linejoin:round; stroke-width:2; stroke-opacity:0.1; fill:none\" points=\"\n",
       "  1709.83,1063.09 1709.83,47.2441 \n",
       "  \"/>\n",
       "<polyline clip-path=\"url(#clip072)\" style=\"stroke:#000000; stroke-linecap:butt; stroke-linejoin:round; stroke-width:2; stroke-opacity:0.1; fill:none\" points=\"\n",
       "  2390.46,1063.09 2390.46,47.2441 \n",
       "  \"/>\n",
       "<polyline clip-path=\"url(#clip072)\" style=\"stroke:#000000; stroke-linecap:butt; stroke-linejoin:round; stroke-width:2; stroke-opacity:0.1; fill:none\" points=\"\n",
       "  3071.08,1063.09 3071.08,47.2441 \n",
       "  \"/>\n",
       "<polyline clip-path=\"url(#clip070)\" style=\"stroke:#000000; stroke-linecap:butt; stroke-linejoin:round; stroke-width:4; stroke-opacity:1; fill:none\" points=\"\n",
       "  266.914,1063.09 3152.76,1063.09 \n",
       "  \"/>\n",
       "<polyline clip-path=\"url(#clip070)\" style=\"stroke:#000000; stroke-linecap:butt; stroke-linejoin:round; stroke-width:4; stroke-opacity:1; fill:none\" points=\"\n",
       "  348.589,1063.09 348.589,1044.19 \n",
       "  \"/>\n",
       "<polyline clip-path=\"url(#clip070)\" style=\"stroke:#000000; stroke-linecap:butt; stroke-linejoin:round; stroke-width:4; stroke-opacity:1; fill:none\" points=\"\n",
       "  1029.21,1063.09 1029.21,1044.19 \n",
       "  \"/>\n",
       "<polyline clip-path=\"url(#clip070)\" style=\"stroke:#000000; stroke-linecap:butt; stroke-linejoin:round; stroke-width:4; stroke-opacity:1; fill:none\" points=\"\n",
       "  1709.83,1063.09 1709.83,1044.19 \n",
       "  \"/>\n",
       "<polyline clip-path=\"url(#clip070)\" style=\"stroke:#000000; stroke-linecap:butt; stroke-linejoin:round; stroke-width:4; stroke-opacity:1; fill:none\" points=\"\n",
       "  2390.46,1063.09 2390.46,1044.19 \n",
       "  \"/>\n",
       "<polyline clip-path=\"url(#clip070)\" style=\"stroke:#000000; stroke-linecap:butt; stroke-linejoin:round; stroke-width:4; stroke-opacity:1; fill:none\" points=\"\n",
       "  3071.08,1063.09 3071.08,1044.19 \n",
       "  \"/>\n",
       "<path clip-path=\"url(#clip070)\" d=\"M310.892 1100.41 Q307.281 1100.41 305.452 1103.97 Q303.647 1107.51 303.647 1114.64 Q303.647 1121.75 305.452 1125.32 Q307.281 1128.86 310.892 1128.86 Q314.526 1128.86 316.332 1125.32 Q318.161 1121.75 318.161 1114.64 Q318.161 1107.51 316.332 1103.97 Q314.526 1100.41 310.892 1100.41 M310.892 1096.7 Q316.702 1096.7 319.758 1101.31 Q322.837 1105.89 322.837 1114.64 Q322.837 1123.37 319.758 1127.98 Q316.702 1132.56 310.892 1132.56 Q305.082 1132.56 302.003 1127.98 Q298.948 1123.37 298.948 1114.64 Q298.948 1105.89 302.003 1101.31 Q305.082 1096.7 310.892 1096.7 Z\" fill=\"#000000\" fill-rule=\"evenodd\" fill-opacity=\"1\" /><path clip-path=\"url(#clip070)\" d=\"M331.054 1126.01 L335.938 1126.01 L335.938 1131.89 L331.054 1131.89 L331.054 1126.01 Z\" fill=\"#000000\" fill-rule=\"evenodd\" fill-opacity=\"1\" /><path clip-path=\"url(#clip070)\" d=\"M356.123 1100.41 Q352.512 1100.41 350.684 1103.97 Q348.878 1107.51 348.878 1114.64 Q348.878 1121.75 350.684 1125.32 Q352.512 1128.86 356.123 1128.86 Q359.758 1128.86 361.563 1125.32 Q363.392 1121.75 363.392 1114.64 Q363.392 1107.51 361.563 1103.97 Q359.758 1100.41 356.123 1100.41 M356.123 1096.7 Q361.934 1096.7 364.989 1101.31 Q368.068 1105.89 368.068 1114.64 Q368.068 1123.37 364.989 1127.98 Q361.934 1132.56 356.123 1132.56 Q350.313 1132.56 347.235 1127.98 Q344.179 1123.37 344.179 1114.64 Q344.179 1105.89 347.235 1101.31 Q350.313 1096.7 356.123 1096.7 Z\" fill=\"#000000\" fill-rule=\"evenodd\" fill-opacity=\"1\" /><path clip-path=\"url(#clip070)\" d=\"M386.285 1100.41 Q382.674 1100.41 380.845 1103.97 Q379.04 1107.51 379.04 1114.64 Q379.04 1121.75 380.845 1125.32 Q382.674 1128.86 386.285 1128.86 Q389.919 1128.86 391.725 1125.32 Q393.554 1121.75 393.554 1114.64 Q393.554 1107.51 391.725 1103.97 Q389.919 1100.41 386.285 1100.41 M386.285 1096.7 Q392.095 1096.7 395.151 1101.31 Q398.23 1105.89 398.23 1114.64 Q398.23 1123.37 395.151 1127.98 Q392.095 1132.56 386.285 1132.56 Q380.475 1132.56 377.396 1127.98 Q374.341 1123.37 374.341 1114.64 Q374.341 1105.89 377.396 1101.31 Q380.475 1096.7 386.285 1096.7 Z\" fill=\"#000000\" fill-rule=\"evenodd\" fill-opacity=\"1\" /><path clip-path=\"url(#clip070)\" d=\"M992.013 1100.41 Q988.402 1100.41 986.573 1103.97 Q984.768 1107.51 984.768 1114.64 Q984.768 1121.75 986.573 1125.32 Q988.402 1128.86 992.013 1128.86 Q995.647 1128.86 997.453 1125.32 Q999.281 1121.75 999.281 1114.64 Q999.281 1107.51 997.453 1103.97 Q995.647 1100.41 992.013 1100.41 M992.013 1096.7 Q997.823 1096.7 1000.88 1101.31 Q1003.96 1105.89 1003.96 1114.64 Q1003.96 1123.37 1000.88 1127.98 Q997.823 1132.56 992.013 1132.56 Q986.203 1132.56 983.124 1127.98 Q980.069 1123.37 980.069 1114.64 Q980.069 1105.89 983.124 1101.31 Q986.203 1096.7 992.013 1096.7 Z\" fill=\"#000000\" fill-rule=\"evenodd\" fill-opacity=\"1\" /><path clip-path=\"url(#clip070)\" d=\"M1012.17 1126.01 L1017.06 1126.01 L1017.06 1131.89 L1012.17 1131.89 L1012.17 1126.01 Z\" fill=\"#000000\" fill-rule=\"evenodd\" fill-opacity=\"1\" /><path clip-path=\"url(#clip070)\" d=\"M1031.27 1127.95 L1047.59 1127.95 L1047.59 1131.89 L1025.65 1131.89 L1025.65 1127.95 Q1028.31 1125.2 1032.89 1120.57 Q1037.5 1115.92 1038.68 1114.58 Q1040.92 1112.05 1041.8 1110.32 Q1042.71 1108.56 1042.71 1106.87 Q1042.71 1104.11 1040.76 1102.38 Q1038.84 1100.64 1035.74 1100.64 Q1033.54 1100.64 1031.09 1101.4 Q1028.66 1102.17 1025.88 1103.72 L1025.88 1099 Q1028.7 1097.86 1031.16 1097.28 Q1033.61 1096.7 1035.65 1096.7 Q1041.02 1096.7 1044.21 1099.39 Q1047.41 1102.08 1047.41 1106.57 Q1047.41 1108.7 1046.6 1110.62 Q1045.81 1112.51 1043.7 1115.11 Q1043.12 1115.78 1040.02 1119 Q1036.92 1122.19 1031.27 1127.95 Z\" fill=\"#000000\" fill-rule=\"evenodd\" fill-opacity=\"1\" /><path clip-path=\"url(#clip070)\" d=\"M1057.45 1097.33 L1075.81 1097.33 L1075.81 1101.27 L1061.73 1101.27 L1061.73 1109.74 Q1062.75 1109.39 1063.77 1109.23 Q1064.79 1109.04 1065.81 1109.04 Q1071.6 1109.04 1074.98 1112.21 Q1078.36 1115.39 1078.36 1120.8 Q1078.36 1126.38 1074.88 1129.48 Q1071.41 1132.56 1065.09 1132.56 Q1062.92 1132.56 1060.65 1132.19 Q1058.4 1131.82 1055.99 1131.08 L1055.99 1126.38 Q1058.08 1127.51 1060.3 1128.07 Q1062.52 1128.63 1065 1128.63 Q1069 1128.63 1071.34 1126.52 Q1073.68 1124.41 1073.68 1120.8 Q1073.68 1117.19 1071.34 1115.08 Q1069 1112.98 1065 1112.98 Q1063.12 1112.98 1061.25 1113.39 Q1059.4 1113.81 1057.45 1114.69 L1057.45 1097.33 Z\" fill=\"#000000\" fill-rule=\"evenodd\" fill-opacity=\"1\" /><path clip-path=\"url(#clip070)\" d=\"M1672.14 1100.41 Q1668.53 1100.41 1666.7 1103.97 Q1664.89 1107.51 1664.89 1114.64 Q1664.89 1121.75 1666.7 1125.32 Q1668.53 1128.86 1672.14 1128.86 Q1675.77 1128.86 1677.58 1125.32 Q1679.41 1121.75 1679.41 1114.64 Q1679.41 1107.51 1677.58 1103.97 Q1675.77 1100.41 1672.14 1100.41 M1672.14 1096.7 Q1677.95 1096.7 1681 1101.31 Q1684.08 1105.89 1684.08 1114.64 Q1684.08 1123.37 1681 1127.98 Q1677.95 1132.56 1672.14 1132.56 Q1666.33 1132.56 1663.25 1127.98 Q1660.19 1123.37 1660.19 1114.64 Q1660.19 1105.89 1663.25 1101.31 Q1666.33 1096.7 1672.14 1096.7 Z\" fill=\"#000000\" fill-rule=\"evenodd\" fill-opacity=\"1\" /><path clip-path=\"url(#clip070)\" d=\"M1692.3 1126.01 L1697.18 1126.01 L1697.18 1131.89 L1692.3 1131.89 L1692.3 1126.01 Z\" fill=\"#000000\" fill-rule=\"evenodd\" fill-opacity=\"1\" /><path clip-path=\"url(#clip070)\" d=\"M1707.42 1097.33 L1725.77 1097.33 L1725.77 1101.27 L1711.7 1101.27 L1711.7 1109.74 Q1712.72 1109.39 1713.74 1109.23 Q1714.75 1109.04 1715.77 1109.04 Q1721.56 1109.04 1724.94 1112.21 Q1728.32 1115.39 1728.32 1120.8 Q1728.32 1126.38 1724.85 1129.48 Q1721.37 1132.56 1715.05 1132.56 Q1712.88 1132.56 1710.61 1132.19 Q1708.37 1131.82 1705.96 1131.08 L1705.96 1126.38 Q1708.04 1127.51 1710.26 1128.07 Q1712.49 1128.63 1714.96 1128.63 Q1718.97 1128.63 1721.3 1126.52 Q1723.64 1124.41 1723.64 1120.8 Q1723.64 1117.19 1721.3 1115.08 Q1718.97 1112.98 1714.96 1112.98 Q1713.09 1112.98 1711.21 1113.39 Q1709.36 1113.81 1707.42 1114.69 L1707.42 1097.33 Z\" fill=\"#000000\" fill-rule=\"evenodd\" fill-opacity=\"1\" /><path clip-path=\"url(#clip070)\" d=\"M1747.53 1100.41 Q1743.92 1100.41 1742.09 1103.97 Q1740.29 1107.51 1740.29 1114.64 Q1740.29 1121.75 1742.09 1125.32 Q1743.92 1128.86 1747.53 1128.86 Q1751.17 1128.86 1752.97 1125.32 Q1754.8 1121.75 1754.8 1114.64 Q1754.8 1107.51 1752.97 1103.97 Q1751.17 1100.41 1747.53 1100.41 M1747.53 1096.7 Q1753.34 1096.7 1756.4 1101.31 Q1759.48 1105.89 1759.48 1114.64 Q1759.48 1123.37 1756.4 1127.98 Q1753.34 1132.56 1747.53 1132.56 Q1741.72 1132.56 1738.64 1127.98 Q1735.59 1123.37 1735.59 1114.64 Q1735.59 1105.89 1738.64 1101.31 Q1741.72 1096.7 1747.53 1096.7 Z\" fill=\"#000000\" fill-rule=\"evenodd\" fill-opacity=\"1\" /><path clip-path=\"url(#clip070)\" d=\"M2353.26 1100.41 Q2349.65 1100.41 2347.82 1103.97 Q2346.01 1107.51 2346.01 1114.64 Q2346.01 1121.75 2347.82 1125.32 Q2349.65 1128.86 2353.26 1128.86 Q2356.89 1128.86 2358.7 1125.32 Q2360.53 1121.75 2360.53 1114.64 Q2360.53 1107.51 2358.7 1103.97 Q2356.89 1100.41 2353.26 1100.41 M2353.26 1096.7 Q2359.07 1096.7 2362.12 1101.31 Q2365.2 1105.89 2365.2 1114.64 Q2365.2 1123.37 2362.12 1127.98 Q2359.07 1132.56 2353.26 1132.56 Q2347.45 1132.56 2344.37 1127.98 Q2341.31 1123.37 2341.31 1114.64 Q2341.31 1105.89 2344.37 1101.31 Q2347.45 1096.7 2353.26 1096.7 Z\" fill=\"#000000\" fill-rule=\"evenodd\" fill-opacity=\"1\" /><path clip-path=\"url(#clip070)\" d=\"M2373.42 1126.01 L2378.31 1126.01 L2378.31 1131.89 L2373.42 1131.89 L2373.42 1126.01 Z\" fill=\"#000000\" fill-rule=\"evenodd\" fill-opacity=\"1\" /><path clip-path=\"url(#clip070)\" d=\"M2387.31 1097.33 L2409.53 1097.33 L2409.53 1099.32 L2396.99 1131.89 L2392.1 1131.89 L2403.91 1101.27 L2387.31 1101.27 L2387.31 1097.33 Z\" fill=\"#000000\" fill-rule=\"evenodd\" fill-opacity=\"1\" /><path clip-path=\"url(#clip070)\" d=\"M2418.7 1097.33 L2437.05 1097.33 L2437.05 1101.27 L2422.98 1101.27 L2422.98 1109.74 Q2424 1109.39 2425.02 1109.23 Q2426.04 1109.04 2427.06 1109.04 Q2432.84 1109.04 2436.22 1112.21 Q2439.6 1115.39 2439.6 1120.8 Q2439.6 1126.38 2436.13 1129.48 Q2432.66 1132.56 2426.34 1132.56 Q2424.16 1132.56 2421.89 1132.19 Q2419.65 1131.82 2417.24 1131.08 L2417.24 1126.38 Q2419.32 1127.51 2421.55 1128.07 Q2423.77 1128.63 2426.24 1128.63 Q2430.25 1128.63 2432.59 1126.52 Q2434.93 1124.41 2434.93 1120.8 Q2434.93 1117.19 2432.59 1115.08 Q2430.25 1112.98 2426.24 1112.98 Q2424.37 1112.98 2422.49 1113.39 Q2420.64 1113.81 2418.7 1114.69 L2418.7 1097.33 Z\" fill=\"#000000\" fill-rule=\"evenodd\" fill-opacity=\"1\" /><path clip-path=\"url(#clip070)\" d=\"M3023.15 1127.95 L3030.79 1127.95 L3030.79 1101.59 L3022.48 1103.26 L3022.48 1099 L3030.75 1097.33 L3035.42 1097.33 L3035.42 1127.95 L3043.06 1127.95 L3043.06 1131.89 L3023.15 1131.89 L3023.15 1127.95 Z\" fill=\"#000000\" fill-rule=\"evenodd\" fill-opacity=\"1\" /><path clip-path=\"url(#clip070)\" d=\"M3052.5 1126.01 L3057.39 1126.01 L3057.39 1131.89 L3052.5 1131.89 L3052.5 1126.01 Z\" fill=\"#000000\" fill-rule=\"evenodd\" fill-opacity=\"1\" /><path clip-path=\"url(#clip070)\" d=\"M3077.57 1100.41 Q3073.96 1100.41 3072.13 1103.97 Q3070.33 1107.51 3070.33 1114.64 Q3070.33 1121.75 3072.13 1125.32 Q3073.96 1128.86 3077.57 1128.86 Q3081.21 1128.86 3083.01 1125.32 Q3084.84 1121.75 3084.84 1114.64 Q3084.84 1107.51 3083.01 1103.97 Q3081.21 1100.41 3077.57 1100.41 M3077.57 1096.7 Q3083.38 1096.7 3086.44 1101.31 Q3089.52 1105.89 3089.52 1114.64 Q3089.52 1123.37 3086.44 1127.98 Q3083.38 1132.56 3077.57 1132.56 Q3071.76 1132.56 3068.69 1127.98 Q3065.63 1123.37 3065.63 1114.64 Q3065.63 1105.89 3068.69 1101.31 Q3071.76 1096.7 3077.57 1096.7 Z\" fill=\"#000000\" fill-rule=\"evenodd\" fill-opacity=\"1\" /><path clip-path=\"url(#clip070)\" d=\"M3107.74 1100.41 Q3104.12 1100.41 3102.3 1103.97 Q3100.49 1107.51 3100.49 1114.64 Q3100.49 1121.75 3102.3 1125.32 Q3104.12 1128.86 3107.74 1128.86 Q3111.37 1128.86 3113.18 1125.32 Q3115 1121.75 3115 1114.64 Q3115 1107.51 3113.18 1103.97 Q3111.37 1100.41 3107.74 1100.41 M3107.74 1096.7 Q3113.55 1096.7 3116.6 1101.31 Q3119.68 1105.89 3119.68 1114.64 Q3119.68 1123.37 3116.6 1127.98 Q3113.55 1132.56 3107.74 1132.56 Q3101.93 1132.56 3098.85 1127.98 Q3095.79 1123.37 3095.79 1114.64 Q3095.79 1105.89 3098.85 1101.31 Q3101.93 1096.7 3107.74 1096.7 Z\" fill=\"#000000\" fill-rule=\"evenodd\" fill-opacity=\"1\" /><path clip-path=\"url(#clip070)\" d=\"M1719.96 1197.36 L1699.68 1197.36 Q1700.16 1206.87 1702.36 1210.91 Q1705.09 1215.88 1709.83 1215.88 Q1714.61 1215.88 1717.25 1210.88 Q1719.57 1206.49 1719.96 1197.36 M1719.86 1191.94 Q1718.97 1182.91 1717.25 1179.72 Q1714.51 1174.69 1709.83 1174.69 Q1704.97 1174.69 1702.39 1179.66 Q1700.35 1183.67 1699.75 1191.94 L1719.86 1191.94 M1709.83 1169.92 Q1717.47 1169.92 1721.83 1176.67 Q1726.19 1183.38 1726.19 1195.29 Q1726.19 1207.16 1721.83 1213.91 Q1717.47 1220.69 1709.83 1220.69 Q1702.16 1220.69 1697.84 1213.91 Q1693.48 1207.16 1693.48 1195.29 Q1693.48 1183.38 1697.84 1176.67 Q1702.16 1169.92 1709.83 1169.92 Z\" fill=\"#000000\" fill-rule=\"evenodd\" fill-opacity=\"1\" /><polyline clip-path=\"url(#clip072)\" style=\"stroke:#000000; stroke-linecap:butt; stroke-linejoin:round; stroke-width:2; stroke-opacity:0.1; fill:none\" points=\"\n",
       "  266.914,1034.34 3152.76,1034.34 \n",
       "  \"/>\n",
       "<polyline clip-path=\"url(#clip072)\" style=\"stroke:#000000; stroke-linecap:butt; stroke-linejoin:round; stroke-width:2; stroke-opacity:0.1; fill:none\" points=\"\n",
       "  266.914,727.575 3152.76,727.575 \n",
       "  \"/>\n",
       "<polyline clip-path=\"url(#clip072)\" style=\"stroke:#000000; stroke-linecap:butt; stroke-linejoin:round; stroke-width:2; stroke-opacity:0.1; fill:none\" points=\"\n",
       "  266.914,420.811 3152.76,420.811 \n",
       "  \"/>\n",
       "<polyline clip-path=\"url(#clip072)\" style=\"stroke:#000000; stroke-linecap:butt; stroke-linejoin:round; stroke-width:2; stroke-opacity:0.1; fill:none\" points=\"\n",
       "  266.914,114.047 3152.76,114.047 \n",
       "  \"/>\n",
       "<polyline clip-path=\"url(#clip070)\" style=\"stroke:#000000; stroke-linecap:butt; stroke-linejoin:round; stroke-width:4; stroke-opacity:1; fill:none\" points=\"\n",
       "  266.914,1063.09 266.914,47.2441 \n",
       "  \"/>\n",
       "<polyline clip-path=\"url(#clip070)\" style=\"stroke:#000000; stroke-linecap:butt; stroke-linejoin:round; stroke-width:4; stroke-opacity:1; fill:none\" points=\"\n",
       "  266.914,1034.34 285.812,1034.34 \n",
       "  \"/>\n",
       "<polyline clip-path=\"url(#clip070)\" style=\"stroke:#000000; stroke-linecap:butt; stroke-linejoin:round; stroke-width:4; stroke-opacity:1; fill:none\" points=\"\n",
       "  266.914,727.575 285.812,727.575 \n",
       "  \"/>\n",
       "<polyline clip-path=\"url(#clip070)\" style=\"stroke:#000000; stroke-linecap:butt; stroke-linejoin:round; stroke-width:4; stroke-opacity:1; fill:none\" points=\"\n",
       "  266.914,420.811 285.812,420.811 \n",
       "  \"/>\n",
       "<polyline clip-path=\"url(#clip070)\" style=\"stroke:#000000; stroke-linecap:butt; stroke-linejoin:round; stroke-width:4; stroke-opacity:1; fill:none\" points=\"\n",
       "  266.914,114.047 285.812,114.047 \n",
       "  \"/>\n",
       "<path clip-path=\"url(#clip070)\" d=\"M101.415 1020.14 Q97.8034 1020.14 95.9748 1023.7 Q94.1692 1027.24 94.1692 1034.37 Q94.1692 1041.48 95.9748 1045.05 Q97.8034 1048.59 101.415 1048.59 Q105.049 1048.59 106.854 1045.05 Q108.683 1041.48 108.683 1034.37 Q108.683 1027.24 106.854 1023.7 Q105.049 1020.14 101.415 1020.14 M101.415 1016.43 Q107.225 1016.43 110.28 1021.04 Q113.359 1025.62 113.359 1034.37 Q113.359 1043.1 110.28 1047.71 Q107.225 1052.29 101.415 1052.29 Q95.6044 1052.29 92.5257 1047.71 Q89.4702 1043.1 89.4702 1034.37 Q89.4702 1025.62 92.5257 1021.04 Q95.6044 1016.43 101.415 1016.43 Z\" fill=\"#000000\" fill-rule=\"evenodd\" fill-opacity=\"1\" /><path clip-path=\"url(#clip070)\" d=\"M121.576 1045.74 L126.461 1045.74 L126.461 1051.62 L121.576 1051.62 L121.576 1045.74 Z\" fill=\"#000000\" fill-rule=\"evenodd\" fill-opacity=\"1\" /><path clip-path=\"url(#clip070)\" d=\"M146.646 1020.14 Q143.035 1020.14 141.206 1023.7 Q139.4 1027.24 139.4 1034.37 Q139.4 1041.48 141.206 1045.05 Q143.035 1048.59 146.646 1048.59 Q150.28 1048.59 152.086 1045.05 Q153.914 1041.48 153.914 1034.37 Q153.914 1027.24 152.086 1023.7 Q150.28 1020.14 146.646 1020.14 M146.646 1016.43 Q152.456 1016.43 155.511 1021.04 Q158.59 1025.62 158.59 1034.37 Q158.59 1043.1 155.511 1047.71 Q152.456 1052.29 146.646 1052.29 Q140.836 1052.29 137.757 1047.71 Q134.701 1043.1 134.701 1034.37 Q134.701 1025.62 137.757 1021.04 Q140.836 1016.43 146.646 1016.43 Z\" fill=\"#000000\" fill-rule=\"evenodd\" fill-opacity=\"1\" /><path clip-path=\"url(#clip070)\" d=\"M176.808 1020.14 Q173.197 1020.14 171.368 1023.7 Q169.562 1027.24 169.562 1034.37 Q169.562 1041.48 171.368 1045.05 Q173.197 1048.59 176.808 1048.59 Q180.442 1048.59 182.247 1045.05 Q184.076 1041.48 184.076 1034.37 Q184.076 1027.24 182.247 1023.7 Q180.442 1020.14 176.808 1020.14 M176.808 1016.43 Q182.618 1016.43 185.673 1021.04 Q188.752 1025.62 188.752 1034.37 Q188.752 1043.1 185.673 1047.71 Q182.618 1052.29 176.808 1052.29 Q170.997 1052.29 167.919 1047.71 Q164.863 1043.1 164.863 1034.37 Q164.863 1025.62 167.919 1021.04 Q170.997 1016.43 176.808 1016.43 Z\" fill=\"#000000\" fill-rule=\"evenodd\" fill-opacity=\"1\" /><path clip-path=\"url(#clip070)\" d=\"M206.97 1020.14 Q203.358 1020.14 201.53 1023.7 Q199.724 1027.24 199.724 1034.37 Q199.724 1041.48 201.53 1045.05 Q203.358 1048.59 206.97 1048.59 Q210.604 1048.59 212.409 1045.05 Q214.238 1041.48 214.238 1034.37 Q214.238 1027.24 212.409 1023.7 Q210.604 1020.14 206.97 1020.14 M206.97 1016.43 Q212.78 1016.43 215.835 1021.04 Q218.914 1025.62 218.914 1034.37 Q218.914 1043.1 215.835 1047.71 Q212.78 1052.29 206.97 1052.29 Q201.159 1052.29 198.081 1047.71 Q195.025 1043.1 195.025 1034.37 Q195.025 1025.62 198.081 1021.04 Q201.159 1016.43 206.97 1016.43 Z\" fill=\"#000000\" fill-rule=\"evenodd\" fill-opacity=\"1\" /><path clip-path=\"url(#clip070)\" d=\"M102.41 713.374 Q98.7988 713.374 96.9701 716.939 Q95.1646 720.48 95.1646 727.61 Q95.1646 734.716 96.9701 738.281 Q98.7988 741.823 102.41 741.823 Q106.044 741.823 107.85 738.281 Q109.678 734.716 109.678 727.61 Q109.678 720.48 107.85 716.939 Q106.044 713.374 102.41 713.374 M102.41 709.67 Q108.22 709.67 111.276 714.277 Q114.354 718.86 114.354 727.61 Q114.354 736.337 111.276 740.943 Q108.22 745.526 102.41 745.526 Q96.5997 745.526 93.5211 740.943 Q90.4655 736.337 90.4655 727.61 Q90.4655 718.86 93.5211 714.277 Q96.5997 709.67 102.41 709.67 Z\" fill=\"#000000\" fill-rule=\"evenodd\" fill-opacity=\"1\" /><path clip-path=\"url(#clip070)\" d=\"M122.572 738.976 L127.456 738.976 L127.456 744.855 L122.572 744.855 L122.572 738.976 Z\" fill=\"#000000\" fill-rule=\"evenodd\" fill-opacity=\"1\" /><path clip-path=\"url(#clip070)\" d=\"M147.641 713.374 Q144.03 713.374 142.201 716.939 Q140.396 720.48 140.396 727.61 Q140.396 734.716 142.201 738.281 Q144.03 741.823 147.641 741.823 Q151.275 741.823 153.081 738.281 Q154.91 734.716 154.91 727.61 Q154.91 720.48 153.081 716.939 Q151.275 713.374 147.641 713.374 M147.641 709.67 Q153.451 709.67 156.507 714.277 Q159.586 718.86 159.586 727.61 Q159.586 736.337 156.507 740.943 Q153.451 745.526 147.641 745.526 Q141.831 745.526 138.752 740.943 Q135.697 736.337 135.697 727.61 Q135.697 718.86 138.752 714.277 Q141.831 709.67 147.641 709.67 Z\" fill=\"#000000\" fill-rule=\"evenodd\" fill-opacity=\"1\" /><path clip-path=\"url(#clip070)\" d=\"M177.803 713.374 Q174.192 713.374 172.363 716.939 Q170.558 720.48 170.558 727.61 Q170.558 734.716 172.363 738.281 Q174.192 741.823 177.803 741.823 Q181.437 741.823 183.243 738.281 Q185.071 734.716 185.071 727.61 Q185.071 720.48 183.243 716.939 Q181.437 713.374 177.803 713.374 M177.803 709.67 Q183.613 709.67 186.669 714.277 Q189.747 718.86 189.747 727.61 Q189.747 736.337 186.669 740.943 Q183.613 745.526 177.803 745.526 Q171.993 745.526 168.914 740.943 Q165.859 736.337 165.859 727.61 Q165.859 718.86 168.914 714.277 Q171.993 709.67 177.803 709.67 Z\" fill=\"#000000\" fill-rule=\"evenodd\" fill-opacity=\"1\" /><path clip-path=\"url(#clip070)\" d=\"M198.011 710.295 L216.368 710.295 L216.368 714.23 L202.294 714.23 L202.294 722.703 Q203.312 722.355 204.331 722.193 Q205.349 722.008 206.368 722.008 Q212.155 722.008 215.534 725.179 Q218.914 728.351 218.914 733.767 Q218.914 739.346 215.442 742.448 Q211.97 745.526 205.65 745.526 Q203.474 745.526 201.206 745.156 Q198.96 744.786 196.553 744.045 L196.553 739.346 Q198.636 740.48 200.858 741.036 Q203.081 741.591 205.557 741.591 Q209.562 741.591 211.9 739.485 Q214.238 737.378 214.238 733.767 Q214.238 730.156 211.9 728.05 Q209.562 725.943 205.557 725.943 Q203.683 725.943 201.808 726.36 Q199.956 726.777 198.011 727.656 L198.011 710.295 Z\" fill=\"#000000\" fill-rule=\"evenodd\" fill-opacity=\"1\" /><path clip-path=\"url(#clip070)\" d=\"M101.415 406.61 Q97.8034 406.61 95.9748 410.174 Q94.1692 413.716 94.1692 420.846 Q94.1692 427.952 95.9748 431.517 Q97.8034 435.058 101.415 435.058 Q105.049 435.058 106.854 431.517 Q108.683 427.952 108.683 420.846 Q108.683 413.716 106.854 410.174 Q105.049 406.61 101.415 406.61 M101.415 402.906 Q107.225 402.906 110.28 407.512 Q113.359 412.096 113.359 420.846 Q113.359 429.572 110.28 434.179 Q107.225 438.762 101.415 438.762 Q95.6044 438.762 92.5257 434.179 Q89.4702 429.572 89.4702 420.846 Q89.4702 412.096 92.5257 407.512 Q95.6044 402.906 101.415 402.906 Z\" fill=\"#000000\" fill-rule=\"evenodd\" fill-opacity=\"1\" /><path clip-path=\"url(#clip070)\" d=\"M121.576 432.211 L126.461 432.211 L126.461 438.091 L121.576 438.091 L121.576 432.211 Z\" fill=\"#000000\" fill-rule=\"evenodd\" fill-opacity=\"1\" /><path clip-path=\"url(#clip070)\" d=\"M146.646 406.61 Q143.035 406.61 141.206 410.174 Q139.4 413.716 139.4 420.846 Q139.4 427.952 141.206 431.517 Q143.035 435.058 146.646 435.058 Q150.28 435.058 152.086 431.517 Q153.914 427.952 153.914 420.846 Q153.914 413.716 152.086 410.174 Q150.28 406.61 146.646 406.61 M146.646 402.906 Q152.456 402.906 155.511 407.512 Q158.59 412.096 158.59 420.846 Q158.59 429.572 155.511 434.179 Q152.456 438.762 146.646 438.762 Q140.836 438.762 137.757 434.179 Q134.701 429.572 134.701 420.846 Q134.701 412.096 137.757 407.512 Q140.836 402.906 146.646 402.906 Z\" fill=\"#000000\" fill-rule=\"evenodd\" fill-opacity=\"1\" /><path clip-path=\"url(#clip070)\" d=\"M167.618 434.156 L175.257 434.156 L175.257 407.79 L166.947 409.457 L166.947 405.198 L175.21 403.531 L179.886 403.531 L179.886 434.156 L187.525 434.156 L187.525 438.091 L167.618 438.091 L167.618 434.156 Z\" fill=\"#000000\" fill-rule=\"evenodd\" fill-opacity=\"1\" /><path clip-path=\"url(#clip070)\" d=\"M206.97 406.61 Q203.358 406.61 201.53 410.174 Q199.724 413.716 199.724 420.846 Q199.724 427.952 201.53 431.517 Q203.358 435.058 206.97 435.058 Q210.604 435.058 212.409 431.517 Q214.238 427.952 214.238 420.846 Q214.238 413.716 212.409 410.174 Q210.604 406.61 206.97 406.61 M206.97 402.906 Q212.78 402.906 215.835 407.512 Q218.914 412.096 218.914 420.846 Q218.914 429.572 215.835 434.179 Q212.78 438.762 206.97 438.762 Q201.159 438.762 198.081 434.179 Q195.025 429.572 195.025 420.846 Q195.025 412.096 198.081 407.512 Q201.159 402.906 206.97 402.906 Z\" fill=\"#000000\" fill-rule=\"evenodd\" fill-opacity=\"1\" /><path clip-path=\"url(#clip070)\" d=\"M102.41 99.8453 Q98.7988 99.8453 96.9701 103.41 Q95.1646 106.952 95.1646 114.081 Q95.1646 121.188 96.9701 124.753 Q98.7988 128.294 102.41 128.294 Q106.044 128.294 107.85 124.753 Q109.678 121.188 109.678 114.081 Q109.678 106.952 107.85 103.41 Q106.044 99.8453 102.41 99.8453 M102.41 96.1416 Q108.22 96.1416 111.276 100.748 Q114.354 105.331 114.354 114.081 Q114.354 122.808 111.276 127.415 Q108.22 131.998 102.41 131.998 Q96.5997 131.998 93.5211 127.415 Q90.4655 122.808 90.4655 114.081 Q90.4655 105.331 93.5211 100.748 Q96.5997 96.1416 102.41 96.1416 Z\" fill=\"#000000\" fill-rule=\"evenodd\" fill-opacity=\"1\" /><path clip-path=\"url(#clip070)\" d=\"M122.572 125.447 L127.456 125.447 L127.456 131.327 L122.572 131.327 L122.572 125.447 Z\" fill=\"#000000\" fill-rule=\"evenodd\" fill-opacity=\"1\" /><path clip-path=\"url(#clip070)\" d=\"M147.641 99.8453 Q144.03 99.8453 142.201 103.41 Q140.396 106.952 140.396 114.081 Q140.396 121.188 142.201 124.753 Q144.03 128.294 147.641 128.294 Q151.275 128.294 153.081 124.753 Q154.91 121.188 154.91 114.081 Q154.91 106.952 153.081 103.41 Q151.275 99.8453 147.641 99.8453 M147.641 96.1416 Q153.451 96.1416 156.507 100.748 Q159.586 105.331 159.586 114.081 Q159.586 122.808 156.507 127.415 Q153.451 131.998 147.641 131.998 Q141.831 131.998 138.752 127.415 Q135.697 122.808 135.697 114.081 Q135.697 105.331 138.752 100.748 Q141.831 96.1416 147.641 96.1416 Z\" fill=\"#000000\" fill-rule=\"evenodd\" fill-opacity=\"1\" /><path clip-path=\"url(#clip070)\" d=\"M168.613 127.391 L176.252 127.391 L176.252 101.026 L167.942 102.692 L167.942 98.4332 L176.206 96.7666 L180.882 96.7666 L180.882 127.391 L188.521 127.391 L188.521 131.327 L168.613 131.327 L168.613 127.391 Z\" fill=\"#000000\" fill-rule=\"evenodd\" fill-opacity=\"1\" /><path clip-path=\"url(#clip070)\" d=\"M198.011 96.7666 L216.368 96.7666 L216.368 100.702 L202.294 100.702 L202.294 109.174 Q203.312 108.827 204.331 108.665 Q205.349 108.479 206.368 108.479 Q212.155 108.479 215.534 111.651 Q218.914 114.822 218.914 120.239 Q218.914 125.817 215.442 128.919 Q211.97 131.998 205.65 131.998 Q203.474 131.998 201.206 131.628 Q198.96 131.257 196.553 130.516 L196.553 125.817 Q198.636 126.952 200.858 127.507 Q203.081 128.063 205.557 128.063 Q209.562 128.063 211.9 125.956 Q214.238 123.85 214.238 120.239 Q214.238 116.628 211.9 114.521 Q209.562 112.415 205.557 112.415 Q203.683 112.415 201.808 112.831 Q199.956 113.248 198.011 114.128 L198.011 96.7666 Z\" fill=\"#000000\" fill-rule=\"evenodd\" fill-opacity=\"1\" /><path clip-path=\"url(#clip070)\" d=\"M21.867 645.655 L40.7731 645.655 L40.7731 651.544 L-8.4338 651.544 L-8.4338 645.655 L-3.02295 645.655 Q-6.2058 643.809 -7.73357 641.009 Q-9.29317 638.176 -9.29317 634.261 Q-9.29317 627.768 -4.13695 623.726 Q1.01927 619.652 9.42201 619.652 Q17.8247 619.652 22.981 623.726 Q28.1372 627.768 28.1372 634.261 Q28.1372 638.176 26.6094 641.009 Q25.0498 643.809 21.867 645.655 M9.42201 625.731 Q2.96082 625.731 -0.699466 628.404 Q-4.39158 631.046 -4.39158 635.693 Q-4.39158 640.34 -0.699466 643.014 Q2.96082 645.655 9.42201 645.655 Q15.8832 645.655 19.5753 643.014 Q23.2356 640.34 23.2356 635.693 Q23.2356 631.046 19.5753 628.404 Q15.8832 625.731 9.42201 625.731 Z\" fill=\"#000000\" fill-rule=\"evenodd\" fill-opacity=\"1\" /><path clip-path=\"url(#clip070)\" d=\"M-22.2474 595.876 Q-14.9268 600.141 -7.7654 602.21 Q-0.60398 604.278 6.74841 604.278 Q14.1008 604.278 21.3259 602.21 Q28.5191 600.109 35.8079 595.876 L35.8079 600.968 Q28.3282 605.743 21.1031 608.13 Q13.878 610.485 6.74841 610.485 Q-0.349352 610.485 -7.5426 608.13 Q-14.7358 605.774 -22.2474 600.968 L-22.2474 595.876 Z\" fill=\"#000000\" fill-rule=\"evenodd\" fill-opacity=\"1\" /><path clip-path=\"url(#clip070)\" d=\"M-15.0223 577.829 L21.9306 577.829 L21.9306 570.063 Q21.9306 560.228 17.4746 555.676 Q13.0186 551.093 3.40641 551.093 Q-6.14215 551.093 -10.5663 555.676 Q-15.0223 560.228 -15.0223 570.063 L-15.0223 577.829 M-20.3058 584.258 L-20.3058 571.049 Q-20.3058 557.236 -14.5449 550.775 Q-8.81574 544.313 3.40641 544.313 Q15.6922 544.313 21.4532 550.806 Q27.2142 557.299 27.2142 571.049 L27.2142 584.258 L-20.3058 584.258 Z\" fill=\"#000000\" fill-rule=\"evenodd\" fill-opacity=\"1\" /><path clip-path=\"url(#clip070)\" d=\"M-22.5975 526.776 L42.5873 526.776 L42.5873 532.187 L-22.5975 532.187 L-22.5975 526.776 Z\" fill=\"#000000\" fill-rule=\"evenodd\" fill-opacity=\"1\" /><path clip-path=\"url(#clip070)\" d=\"M4.6159 488.423 L4.6159 508.697 Q14.1326 508.22 18.1749 506.024 Q23.1401 503.286 23.1401 498.544 Q23.1401 493.77 18.143 491.128 Q13.7507 488.804 4.6159 488.423 M-0.794952 488.518 Q-9.83426 489.409 -13.0171 491.128 Q-18.046 493.865 -18.046 498.544 Q-18.046 503.414 -13.0808 505.992 Q-9.07037 508.029 -0.794952 508.634 L-0.794952 488.518 M-22.8203 498.544 Q-22.8203 490.905 -16.0726 486.545 Q-9.35683 482.184 2.54704 482.184 Q14.4191 482.184 21.1667 486.545 Q27.9462 490.905 27.9462 498.544 Q27.9462 506.215 21.1667 510.543 Q14.4191 514.904 2.54704 514.904 Q-9.35683 514.904 -16.0726 510.543 Q-22.8203 506.215 -22.8203 498.544 Z\" fill=\"#000000\" fill-rule=\"evenodd\" fill-opacity=\"1\" /><path clip-path=\"url(#clip070)\" d=\"M-22.2474 473.399 L-22.2474 468.307 Q-14.7358 463.533 -7.5426 461.177 Q-0.349352 458.79 6.74841 458.79 Q13.878 458.79 21.1031 461.177 Q28.3282 463.533 35.8079 468.307 L35.8079 473.399 Q28.5191 469.166 21.3259 467.097 Q14.1008 464.997 6.74841 464.997 Q-0.60398 464.997 -7.7654 467.097 Q-14.9268 469.166 -22.2474 473.399 Z\" fill=\"#000000\" fill-rule=\"evenodd\" fill-opacity=\"1\" /><polyline clip-path=\"url(#clip072)\" style=\"stroke:#009af9; stroke-linecap:butt; stroke-linejoin:round; stroke-width:8; stroke-opacity:1; fill:none\" points=\"\n",
       "  348.589,1034.34 376.089,1034.28 403.589,1033.86 431.088,1032.78 458.588,1030.76 486.088,1027.57 513.588,1023.02 541.088,1016.93 568.588,1009.2 596.088,999.707 \n",
       "  623.588,988.399 651.088,975.231 678.588,960.187 706.088,943.275 733.588,924.524 761.088,903.982 788.587,881.717 816.087,857.812 843.587,832.365 871.087,805.488 \n",
       "  898.587,777.303 926.087,747.945 953.587,717.555 981.087,686.284 1008.59,654.289 1036.09,621.73 1063.59,588.773 1091.09,555.585 1118.59,522.336 1146.09,489.195 \n",
       "  1173.59,456.33 1201.09,423.91 1228.59,392.099 1256.09,361.057 1283.59,330.943 1311.09,301.907 1338.59,274.096 1366.09,247.649 1393.59,222.699 1421.09,199.369 \n",
       "  1448.59,177.776 1476.09,158.027 1503.59,140.219 1531.09,124.441 1558.59,110.77 1586.09,99.2731 1613.59,90.0074 1641.09,83.0181 1668.59,78.3395 1696.08,75.9944 \n",
       "  1723.58,75.9944 1751.08,78.3395 1778.58,83.0181 1806.08,90.0074 1833.58,99.2731 1861.08,110.77 1888.58,124.441 1916.08,140.219 1943.58,158.027 1971.08,177.776 \n",
       "  1998.58,199.369 2026.08,222.699 2053.58,247.649 2081.08,274.096 2108.58,301.907 2136.08,330.943 2163.58,361.057 2191.08,392.099 2218.58,423.91 2246.08,456.33 \n",
       "  2273.58,489.195 2301.08,522.336 2328.58,555.585 2356.08,588.773 2383.58,621.73 2411.08,654.289 2438.58,686.284 2466.08,717.555 2493.58,747.945 2521.08,777.303 \n",
       "  2548.58,805.488 2576.08,832.365 2603.58,857.812 2631.08,881.717 2658.58,903.982 2686.08,924.524 2713.58,943.275 2741.08,960.187 2768.58,975.231 2796.08,988.399 \n",
       "  2823.58,999.707 2851.08,1009.2 2878.58,1016.93 2906.08,1023.02 2933.58,1027.57 2961.08,1030.76 2988.58,1032.78 3016.08,1033.86 3043.58,1034.28 3071.08,1034.34 \n",
       "  \n",
       "  \"/>\n",
       "</svg>\n"
      ]
     },
     "execution_count": 9,
     "metadata": {},
     "output_type": "execute_result"
    }
   ],
   "source": [
    "# Data set\n",
    "D = [0 0 1 0 1 1]\n",
    "\n",
    "# Plot likelihood\n",
    "plot(θ, likelihood(D, θ), linewidth=2, label=\"\", xlabel=\"θ\", ylabel=\"p(D|θ)\", size=(800,300))"
   ]
  },
  {
   "cell_type": "markdown",
   "metadata": {
    "nbgrader": {
     "grade": false,
     "grade_id": "cell-80e23368a218223b",
     "locked": true,
     "schema_version": 3,
     "solution": false,
     "task": false
    }
   },
   "source": [
    "The maximum of the likelihood function moved towards $0.5$, but the likelihood went down nonetheless. This happens because the scale of the function decreases as we add more data."
   ]
  },
  {
   "cell_type": "markdown",
   "metadata": {
    "nbgrader": {
     "grade": false,
     "grade_id": "cell-cc0571a4cfc2cfec",
     "locked": true,
     "schema_version": 3,
     "solution": false,
     "task": false
    }
   },
   "source": [
    "Say we add even more observations, namely $[1\\ 1\\ 1\\ 1]$.\n",
    "\n",
    "### **3) Which is bigger now: the likelihood of $\\theta=0.5$ or of $\\theta=0.8$?**"
   ]
  },
  {
   "cell_type": "code",
   "execution_count": 10,
   "metadata": {},
   "outputs": [
    {
     "data": {
      "image/svg+xml": [
       "<?xml version=\"1.0\" encoding=\"utf-8\"?>\n",
       "<svg xmlns=\"http://www.w3.org/2000/svg\" xmlns:xlink=\"http://www.w3.org/1999/xlink\" width=\"800\" height=\"300\" viewBox=\"0 0 3200 1200\">\n",
       "<defs>\n",
       "  <clipPath id=\"clip110\">\n",
       "    <rect x=\"0\" y=\"0\" width=\"3200\" height=\"1200\"/>\n",
       "  </clipPath>\n",
       "</defs>\n",
       "<path clip-path=\"url(#clip110)\" d=\"\n",
       "M0 1200 L3200 1200 L3200 0 L0 0  Z\n",
       "  \" fill=\"#ffffff\" fill-rule=\"evenodd\" fill-opacity=\"1\"/>\n",
       "<defs>\n",
       "  <clipPath id=\"clip111\">\n",
       "    <rect x=\"640\" y=\"0\" width=\"2241\" height=\"1200\"/>\n",
       "  </clipPath>\n",
       "</defs>\n",
       "<path clip-path=\"url(#clip110)\" d=\"\n",
       "M297.076 1063.09 L3152.76 1063.09 L3152.76 47.2441 L297.076 47.2441  Z\n",
       "  \" fill=\"#ffffff\" fill-rule=\"evenodd\" fill-opacity=\"1\"/>\n",
       "<defs>\n",
       "  <clipPath id=\"clip112\">\n",
       "    <rect x=\"297\" y=\"47\" width=\"2857\" height=\"1017\"/>\n",
       "  </clipPath>\n",
       "</defs>\n",
       "<polyline clip-path=\"url(#clip112)\" style=\"stroke:#000000; stroke-linecap:butt; stroke-linejoin:round; stroke-width:2; stroke-opacity:0.1; fill:none\" points=\"\n",
       "  377.897,1063.09 377.897,47.2441 \n",
       "  \"/>\n",
       "<polyline clip-path=\"url(#clip112)\" style=\"stroke:#000000; stroke-linecap:butt; stroke-linejoin:round; stroke-width:2; stroke-opacity:0.1; fill:none\" points=\"\n",
       "  1051.41,1063.09 1051.41,47.2441 \n",
       "  \"/>\n",
       "<polyline clip-path=\"url(#clip112)\" style=\"stroke:#000000; stroke-linecap:butt; stroke-linejoin:round; stroke-width:2; stroke-opacity:0.1; fill:none\" points=\"\n",
       "  1724.92,1063.09 1724.92,47.2441 \n",
       "  \"/>\n",
       "<polyline clip-path=\"url(#clip112)\" style=\"stroke:#000000; stroke-linecap:butt; stroke-linejoin:round; stroke-width:2; stroke-opacity:0.1; fill:none\" points=\"\n",
       "  2398.43,1063.09 2398.43,47.2441 \n",
       "  \"/>\n",
       "<polyline clip-path=\"url(#clip112)\" style=\"stroke:#000000; stroke-linecap:butt; stroke-linejoin:round; stroke-width:2; stroke-opacity:0.1; fill:none\" points=\"\n",
       "  3071.93,1063.09 3071.93,47.2441 \n",
       "  \"/>\n",
       "<polyline clip-path=\"url(#clip110)\" style=\"stroke:#000000; stroke-linecap:butt; stroke-linejoin:round; stroke-width:4; stroke-opacity:1; fill:none\" points=\"\n",
       "  297.076,1063.09 3152.76,1063.09 \n",
       "  \"/>\n",
       "<polyline clip-path=\"url(#clip110)\" style=\"stroke:#000000; stroke-linecap:butt; stroke-linejoin:round; stroke-width:4; stroke-opacity:1; fill:none\" points=\"\n",
       "  377.897,1063.09 377.897,1044.19 \n",
       "  \"/>\n",
       "<polyline clip-path=\"url(#clip110)\" style=\"stroke:#000000; stroke-linecap:butt; stroke-linejoin:round; stroke-width:4; stroke-opacity:1; fill:none\" points=\"\n",
       "  1051.41,1063.09 1051.41,1044.19 \n",
       "  \"/>\n",
       "<polyline clip-path=\"url(#clip110)\" style=\"stroke:#000000; stroke-linecap:butt; stroke-linejoin:round; stroke-width:4; stroke-opacity:1; fill:none\" points=\"\n",
       "  1724.92,1063.09 1724.92,1044.19 \n",
       "  \"/>\n",
       "<polyline clip-path=\"url(#clip110)\" style=\"stroke:#000000; stroke-linecap:butt; stroke-linejoin:round; stroke-width:4; stroke-opacity:1; fill:none\" points=\"\n",
       "  2398.43,1063.09 2398.43,1044.19 \n",
       "  \"/>\n",
       "<polyline clip-path=\"url(#clip110)\" style=\"stroke:#000000; stroke-linecap:butt; stroke-linejoin:round; stroke-width:4; stroke-opacity:1; fill:none\" points=\"\n",
       "  3071.93,1063.09 3071.93,1044.19 \n",
       "  \"/>\n",
       "<path clip-path=\"url(#clip110)\" d=\"M340.2 1100.41 Q336.589 1100.41 334.761 1103.97 Q332.955 1107.51 332.955 1114.64 Q332.955 1121.75 334.761 1125.32 Q336.589 1128.86 340.2 1128.86 Q343.835 1128.86 345.64 1125.32 Q347.469 1121.75 347.469 1114.64 Q347.469 1107.51 345.64 1103.97 Q343.835 1100.41 340.2 1100.41 M340.2 1096.7 Q346.011 1096.7 349.066 1101.31 Q352.145 1105.89 352.145 1114.64 Q352.145 1123.37 349.066 1127.98 Q346.011 1132.56 340.2 1132.56 Q334.39 1132.56 331.312 1127.98 Q328.256 1123.37 328.256 1114.64 Q328.256 1105.89 331.312 1101.31 Q334.39 1096.7 340.2 1096.7 Z\" fill=\"#000000\" fill-rule=\"evenodd\" fill-opacity=\"1\" /><path clip-path=\"url(#clip110)\" d=\"M360.362 1126.01 L365.247 1126.01 L365.247 1131.89 L360.362 1131.89 L360.362 1126.01 Z\" fill=\"#000000\" fill-rule=\"evenodd\" fill-opacity=\"1\" /><path clip-path=\"url(#clip110)\" d=\"M385.432 1100.41 Q381.821 1100.41 379.992 1103.97 Q378.186 1107.51 378.186 1114.64 Q378.186 1121.75 379.992 1125.32 Q381.821 1128.86 385.432 1128.86 Q389.066 1128.86 390.871 1125.32 Q392.7 1121.75 392.7 1114.64 Q392.7 1107.51 390.871 1103.97 Q389.066 1100.41 385.432 1100.41 M385.432 1096.7 Q391.242 1096.7 394.297 1101.31 Q397.376 1105.89 397.376 1114.64 Q397.376 1123.37 394.297 1127.98 Q391.242 1132.56 385.432 1132.56 Q379.621 1132.56 376.543 1127.98 Q373.487 1123.37 373.487 1114.64 Q373.487 1105.89 376.543 1101.31 Q379.621 1096.7 385.432 1096.7 Z\" fill=\"#000000\" fill-rule=\"evenodd\" fill-opacity=\"1\" /><path clip-path=\"url(#clip110)\" d=\"M415.593 1100.41 Q411.982 1100.41 410.154 1103.97 Q408.348 1107.51 408.348 1114.64 Q408.348 1121.75 410.154 1125.32 Q411.982 1128.86 415.593 1128.86 Q419.228 1128.86 421.033 1125.32 Q422.862 1121.75 422.862 1114.64 Q422.862 1107.51 421.033 1103.97 Q419.228 1100.41 415.593 1100.41 M415.593 1096.7 Q421.404 1096.7 424.459 1101.31 Q427.538 1105.89 427.538 1114.64 Q427.538 1123.37 424.459 1127.98 Q421.404 1132.56 415.593 1132.56 Q409.783 1132.56 406.705 1127.98 Q403.649 1123.37 403.649 1114.64 Q403.649 1105.89 406.705 1101.31 Q409.783 1096.7 415.593 1096.7 Z\" fill=\"#000000\" fill-rule=\"evenodd\" fill-opacity=\"1\" /><path clip-path=\"url(#clip110)\" d=\"M1014.21 1100.41 Q1010.6 1100.41 1008.77 1103.97 Q1006.96 1107.51 1006.96 1114.64 Q1006.96 1121.75 1008.77 1125.32 Q1010.6 1128.86 1014.21 1128.86 Q1017.84 1128.86 1019.65 1125.32 Q1021.48 1121.75 1021.48 1114.64 Q1021.48 1107.51 1019.65 1103.97 Q1017.84 1100.41 1014.21 1100.41 M1014.21 1096.7 Q1020.02 1096.7 1023.07 1101.31 Q1026.15 1105.89 1026.15 1114.64 Q1026.15 1123.37 1023.07 1127.98 Q1020.02 1132.56 1014.21 1132.56 Q1008.4 1132.56 1005.32 1127.98 Q1002.26 1123.37 1002.26 1114.64 Q1002.26 1105.89 1005.32 1101.31 Q1008.4 1096.7 1014.21 1096.7 Z\" fill=\"#000000\" fill-rule=\"evenodd\" fill-opacity=\"1\" /><path clip-path=\"url(#clip110)\" d=\"M1034.37 1126.01 L1039.25 1126.01 L1039.25 1131.89 L1034.37 1131.89 L1034.37 1126.01 Z\" fill=\"#000000\" fill-rule=\"evenodd\" fill-opacity=\"1\" /><path clip-path=\"url(#clip110)\" d=\"M1053.47 1127.95 L1069.79 1127.95 L1069.79 1131.89 L1047.84 1131.89 L1047.84 1127.95 Q1050.5 1125.2 1055.09 1120.57 Q1059.69 1115.92 1060.87 1114.58 Q1063.12 1112.05 1064 1110.32 Q1064.9 1108.56 1064.9 1106.87 Q1064.9 1104.11 1062.96 1102.38 Q1061.04 1100.64 1057.93 1100.64 Q1055.74 1100.64 1053.28 1101.4 Q1050.85 1102.17 1048.07 1103.72 L1048.07 1099 Q1050.9 1097.86 1053.35 1097.28 Q1055.8 1096.7 1057.84 1096.7 Q1063.21 1096.7 1066.41 1099.39 Q1069.6 1102.08 1069.6 1106.57 Q1069.6 1108.7 1068.79 1110.62 Q1068 1112.51 1065.9 1115.11 Q1065.32 1115.78 1062.22 1119 Q1059.11 1122.19 1053.47 1127.95 Z\" fill=\"#000000\" fill-rule=\"evenodd\" fill-opacity=\"1\" /><path clip-path=\"url(#clip110)\" d=\"M1079.65 1097.33 L1098 1097.33 L1098 1101.27 L1083.93 1101.27 L1083.93 1109.74 Q1084.95 1109.39 1085.97 1109.23 Q1086.98 1109.04 1088 1109.04 Q1093.79 1109.04 1097.17 1112.21 Q1100.55 1115.39 1100.55 1120.8 Q1100.55 1126.38 1097.08 1129.48 Q1093.61 1132.56 1087.29 1132.56 Q1085.11 1132.56 1082.84 1132.19 Q1080.6 1131.82 1078.19 1131.08 L1078.19 1126.38 Q1080.27 1127.51 1082.49 1128.07 Q1084.72 1128.63 1087.19 1128.63 Q1091.2 1128.63 1093.54 1126.52 Q1095.87 1124.41 1095.87 1120.8 Q1095.87 1117.19 1093.54 1115.08 Q1091.2 1112.98 1087.19 1112.98 Q1085.32 1112.98 1083.44 1113.39 Q1081.59 1113.81 1079.65 1114.69 L1079.65 1097.33 Z\" fill=\"#000000\" fill-rule=\"evenodd\" fill-opacity=\"1\" /><path clip-path=\"url(#clip110)\" d=\"M1687.22 1100.41 Q1683.61 1100.41 1681.78 1103.97 Q1679.97 1107.51 1679.97 1114.64 Q1679.97 1121.75 1681.78 1125.32 Q1683.61 1128.86 1687.22 1128.86 Q1690.85 1128.86 1692.66 1125.32 Q1694.49 1121.75 1694.49 1114.64 Q1694.49 1107.51 1692.66 1103.97 Q1690.85 1100.41 1687.22 1100.41 M1687.22 1096.7 Q1693.03 1096.7 1696.08 1101.31 Q1699.16 1105.89 1699.16 1114.64 Q1699.16 1123.37 1696.08 1127.98 Q1693.03 1132.56 1687.22 1132.56 Q1681.41 1132.56 1678.33 1127.98 Q1675.27 1123.37 1675.27 1114.64 Q1675.27 1105.89 1678.33 1101.31 Q1681.41 1096.7 1687.22 1096.7 Z\" fill=\"#000000\" fill-rule=\"evenodd\" fill-opacity=\"1\" /><path clip-path=\"url(#clip110)\" d=\"M1707.38 1126.01 L1712.27 1126.01 L1712.27 1131.89 L1707.38 1131.89 L1707.38 1126.01 Z\" fill=\"#000000\" fill-rule=\"evenodd\" fill-opacity=\"1\" /><path clip-path=\"url(#clip110)\" d=\"M1722.5 1097.33 L1740.85 1097.33 L1740.85 1101.27 L1726.78 1101.27 L1726.78 1109.74 Q1727.8 1109.39 1728.82 1109.23 Q1729.83 1109.04 1730.85 1109.04 Q1736.64 1109.04 1740.02 1112.21 Q1743.4 1115.39 1743.4 1120.8 Q1743.4 1126.38 1739.93 1129.48 Q1736.46 1132.56 1730.14 1132.56 Q1727.96 1132.56 1725.69 1132.19 Q1723.45 1131.82 1721.04 1131.08 L1721.04 1126.38 Q1723.12 1127.51 1725.34 1128.07 Q1727.57 1128.63 1730.04 1128.63 Q1734.05 1128.63 1736.39 1126.52 Q1738.72 1124.41 1738.72 1120.8 Q1738.72 1117.19 1736.39 1115.08 Q1734.05 1112.98 1730.04 1112.98 Q1728.17 1112.98 1726.29 1113.39 Q1724.44 1113.81 1722.5 1114.69 L1722.5 1097.33 Z\" fill=\"#000000\" fill-rule=\"evenodd\" fill-opacity=\"1\" /><path clip-path=\"url(#clip110)\" d=\"M1762.61 1100.41 Q1759 1100.41 1757.17 1103.97 Q1755.37 1107.51 1755.37 1114.64 Q1755.37 1121.75 1757.17 1125.32 Q1759 1128.86 1762.61 1128.86 Q1766.25 1128.86 1768.05 1125.32 Q1769.88 1121.75 1769.88 1114.64 Q1769.88 1107.51 1768.05 1103.97 Q1766.25 1100.41 1762.61 1100.41 M1762.61 1096.7 Q1768.42 1096.7 1771.48 1101.31 Q1774.56 1105.89 1774.56 1114.64 Q1774.56 1123.37 1771.48 1127.98 Q1768.42 1132.56 1762.61 1132.56 Q1756.8 1132.56 1753.72 1127.98 Q1750.67 1123.37 1750.67 1114.64 Q1750.67 1105.89 1753.72 1101.31 Q1756.8 1096.7 1762.61 1096.7 Z\" fill=\"#000000\" fill-rule=\"evenodd\" fill-opacity=\"1\" /><path clip-path=\"url(#clip110)\" d=\"M2361.23 1100.41 Q2357.62 1100.41 2355.79 1103.97 Q2353.98 1107.51 2353.98 1114.64 Q2353.98 1121.75 2355.79 1125.32 Q2357.62 1128.86 2361.23 1128.86 Q2364.86 1128.86 2366.67 1125.32 Q2368.49 1121.75 2368.49 1114.64 Q2368.49 1107.51 2366.67 1103.97 Q2364.86 1100.41 2361.23 1100.41 M2361.23 1096.7 Q2367.04 1096.7 2370.09 1101.31 Q2373.17 1105.89 2373.17 1114.64 Q2373.17 1123.37 2370.09 1127.98 Q2367.04 1132.56 2361.23 1132.56 Q2355.42 1132.56 2352.34 1127.98 Q2349.28 1123.37 2349.28 1114.64 Q2349.28 1105.89 2352.34 1101.31 Q2355.42 1096.7 2361.23 1096.7 Z\" fill=\"#000000\" fill-rule=\"evenodd\" fill-opacity=\"1\" /><path clip-path=\"url(#clip110)\" d=\"M2381.39 1126.01 L2386.27 1126.01 L2386.27 1131.89 L2381.39 1131.89 L2381.39 1126.01 Z\" fill=\"#000000\" fill-rule=\"evenodd\" fill-opacity=\"1\" /><path clip-path=\"url(#clip110)\" d=\"M2395.28 1097.33 L2417.5 1097.33 L2417.5 1099.32 L2404.95 1131.89 L2400.07 1131.89 L2411.87 1101.27 L2395.28 1101.27 L2395.28 1097.33 Z\" fill=\"#000000\" fill-rule=\"evenodd\" fill-opacity=\"1\" /><path clip-path=\"url(#clip110)\" d=\"M2426.67 1097.33 L2445.02 1097.33 L2445.02 1101.27 L2430.95 1101.27 L2430.95 1109.74 Q2431.97 1109.39 2432.99 1109.23 Q2434 1109.04 2435.02 1109.04 Q2440.81 1109.04 2444.19 1112.21 Q2447.57 1115.39 2447.57 1120.8 Q2447.57 1126.38 2444.1 1129.48 Q2440.62 1132.56 2434.3 1132.56 Q2432.13 1132.56 2429.86 1132.19 Q2427.61 1131.82 2425.21 1131.08 L2425.21 1126.38 Q2427.29 1127.51 2429.51 1128.07 Q2431.74 1128.63 2434.21 1128.63 Q2438.22 1128.63 2440.55 1126.52 Q2442.89 1124.41 2442.89 1120.8 Q2442.89 1117.19 2440.55 1115.08 Q2438.22 1112.98 2434.21 1112.98 Q2432.34 1112.98 2430.46 1113.39 Q2428.61 1113.81 2426.67 1114.69 L2426.67 1097.33 Z\" fill=\"#000000\" fill-rule=\"evenodd\" fill-opacity=\"1\" /><path clip-path=\"url(#clip110)\" d=\"M3024.01 1127.95 L3031.65 1127.95 L3031.65 1101.59 L3023.34 1103.26 L3023.34 1099 L3031.6 1097.33 L3036.28 1097.33 L3036.28 1127.95 L3043.91 1127.95 L3043.91 1131.89 L3024.01 1131.89 L3024.01 1127.95 Z\" fill=\"#000000\" fill-rule=\"evenodd\" fill-opacity=\"1\" /><path clip-path=\"url(#clip110)\" d=\"M3053.36 1126.01 L3058.24 1126.01 L3058.24 1131.89 L3053.36 1131.89 L3053.36 1126.01 Z\" fill=\"#000000\" fill-rule=\"evenodd\" fill-opacity=\"1\" /><path clip-path=\"url(#clip110)\" d=\"M3078.43 1100.41 Q3074.82 1100.41 3072.99 1103.97 Q3071.18 1107.51 3071.18 1114.64 Q3071.18 1121.75 3072.99 1125.32 Q3074.82 1128.86 3078.43 1128.86 Q3082.06 1128.86 3083.87 1125.32 Q3085.7 1121.75 3085.7 1114.64 Q3085.7 1107.51 3083.87 1103.97 Q3082.06 1100.41 3078.43 1100.41 M3078.43 1096.7 Q3084.24 1096.7 3087.29 1101.31 Q3090.37 1105.89 3090.37 1114.64 Q3090.37 1123.37 3087.29 1127.98 Q3084.24 1132.56 3078.43 1132.56 Q3072.62 1132.56 3069.54 1127.98 Q3066.48 1123.37 3066.48 1114.64 Q3066.48 1105.89 3069.54 1101.31 Q3072.62 1096.7 3078.43 1096.7 Z\" fill=\"#000000\" fill-rule=\"evenodd\" fill-opacity=\"1\" /><path clip-path=\"url(#clip110)\" d=\"M3108.59 1100.41 Q3104.98 1100.41 3103.15 1103.97 Q3101.34 1107.51 3101.34 1114.64 Q3101.34 1121.75 3103.15 1125.32 Q3104.98 1128.86 3108.59 1128.86 Q3112.22 1128.86 3114.03 1125.32 Q3115.86 1121.75 3115.86 1114.64 Q3115.86 1107.51 3114.03 1103.97 Q3112.22 1100.41 3108.59 1100.41 M3108.59 1096.7 Q3114.4 1096.7 3117.46 1101.31 Q3120.53 1105.89 3120.53 1114.64 Q3120.53 1123.37 3117.46 1127.98 Q3114.4 1132.56 3108.59 1132.56 Q3102.78 1132.56 3099.7 1127.98 Q3096.65 1123.37 3096.65 1114.64 Q3096.65 1105.89 3099.7 1101.31 Q3102.78 1096.7 3108.59 1096.7 Z\" fill=\"#000000\" fill-rule=\"evenodd\" fill-opacity=\"1\" /><path clip-path=\"url(#clip110)\" d=\"M1735.04 1197.36 L1714.76 1197.36 Q1715.24 1206.87 1717.44 1210.91 Q1720.17 1215.88 1724.92 1215.88 Q1729.69 1215.88 1732.33 1210.88 Q1734.66 1206.49 1735.04 1197.36 M1734.94 1191.94 Q1734.05 1182.91 1732.33 1179.72 Q1729.59 1174.69 1724.92 1174.69 Q1720.05 1174.69 1717.47 1179.66 Q1715.43 1183.67 1714.83 1191.94 L1734.94 1191.94 M1724.92 1169.92 Q1732.55 1169.92 1736.92 1176.67 Q1741.28 1183.38 1741.28 1195.29 Q1741.28 1207.16 1736.92 1213.91 Q1732.55 1220.69 1724.92 1220.69 Q1717.25 1220.69 1712.92 1213.91 Q1708.56 1207.16 1708.56 1195.29 Q1708.56 1183.38 1712.92 1176.67 Q1717.25 1169.92 1724.92 1169.92 Z\" fill=\"#000000\" fill-rule=\"evenodd\" fill-opacity=\"1\" /><polyline clip-path=\"url(#clip112)\" style=\"stroke:#000000; stroke-linecap:butt; stroke-linejoin:round; stroke-width:2; stroke-opacity:0.1; fill:none\" points=\"\n",
       "  297.076,1034.34 3152.76,1034.34 \n",
       "  \"/>\n",
       "<polyline clip-path=\"url(#clip112)\" style=\"stroke:#000000; stroke-linecap:butt; stroke-linejoin:round; stroke-width:2; stroke-opacity:0.1; fill:none\" points=\"\n",
       "  297.076,818.795 3152.76,818.795 \n",
       "  \"/>\n",
       "<polyline clip-path=\"url(#clip112)\" style=\"stroke:#000000; stroke-linecap:butt; stroke-linejoin:round; stroke-width:2; stroke-opacity:0.1; fill:none\" points=\"\n",
       "  297.076,603.251 3152.76,603.251 \n",
       "  \"/>\n",
       "<polyline clip-path=\"url(#clip112)\" style=\"stroke:#000000; stroke-linecap:butt; stroke-linejoin:round; stroke-width:2; stroke-opacity:0.1; fill:none\" points=\"\n",
       "  297.076,387.707 3152.76,387.707 \n",
       "  \"/>\n",
       "<polyline clip-path=\"url(#clip112)\" style=\"stroke:#000000; stroke-linecap:butt; stroke-linejoin:round; stroke-width:2; stroke-opacity:0.1; fill:none\" points=\"\n",
       "  297.076,172.162 3152.76,172.162 \n",
       "  \"/>\n",
       "<polyline clip-path=\"url(#clip110)\" style=\"stroke:#000000; stroke-linecap:butt; stroke-linejoin:round; stroke-width:4; stroke-opacity:1; fill:none\" points=\"\n",
       "  297.076,1063.09 297.076,47.2441 \n",
       "  \"/>\n",
       "<polyline clip-path=\"url(#clip110)\" style=\"stroke:#000000; stroke-linecap:butt; stroke-linejoin:round; stroke-width:4; stroke-opacity:1; fill:none\" points=\"\n",
       "  297.076,1034.34 315.973,1034.34 \n",
       "  \"/>\n",
       "<polyline clip-path=\"url(#clip110)\" style=\"stroke:#000000; stroke-linecap:butt; stroke-linejoin:round; stroke-width:4; stroke-opacity:1; fill:none\" points=\"\n",
       "  297.076,818.795 315.973,818.795 \n",
       "  \"/>\n",
       "<polyline clip-path=\"url(#clip110)\" style=\"stroke:#000000; stroke-linecap:butt; stroke-linejoin:round; stroke-width:4; stroke-opacity:1; fill:none\" points=\"\n",
       "  297.076,603.251 315.973,603.251 \n",
       "  \"/>\n",
       "<polyline clip-path=\"url(#clip110)\" style=\"stroke:#000000; stroke-linecap:butt; stroke-linejoin:round; stroke-width:4; stroke-opacity:1; fill:none\" points=\"\n",
       "  297.076,387.707 315.973,387.707 \n",
       "  \"/>\n",
       "<polyline clip-path=\"url(#clip110)\" style=\"stroke:#000000; stroke-linecap:butt; stroke-linejoin:round; stroke-width:4; stroke-opacity:1; fill:none\" points=\"\n",
       "  297.076,172.162 315.973,172.162 \n",
       "  \"/>\n",
       "<path clip-path=\"url(#clip110)\" d=\"M101.415 1020.14 Q97.8034 1020.14 95.9748 1023.7 Q94.1692 1027.24 94.1692 1034.37 Q94.1692 1041.48 95.9748 1045.05 Q97.8034 1048.59 101.415 1048.59 Q105.049 1048.59 106.854 1045.05 Q108.683 1041.48 108.683 1034.37 Q108.683 1027.24 106.854 1023.7 Q105.049 1020.14 101.415 1020.14 M101.415 1016.43 Q107.225 1016.43 110.28 1021.04 Q113.359 1025.62 113.359 1034.37 Q113.359 1043.1 110.28 1047.71 Q107.225 1052.29 101.415 1052.29 Q95.6044 1052.29 92.5257 1047.71 Q89.4702 1043.1 89.4702 1034.37 Q89.4702 1025.62 92.5257 1021.04 Q95.6044 1016.43 101.415 1016.43 Z\" fill=\"#000000\" fill-rule=\"evenodd\" fill-opacity=\"1\" /><path clip-path=\"url(#clip110)\" d=\"M121.576 1045.74 L126.461 1045.74 L126.461 1051.62 L121.576 1051.62 L121.576 1045.74 Z\" fill=\"#000000\" fill-rule=\"evenodd\" fill-opacity=\"1\" /><path clip-path=\"url(#clip110)\" d=\"M146.646 1020.14 Q143.035 1020.14 141.206 1023.7 Q139.4 1027.24 139.4 1034.37 Q139.4 1041.48 141.206 1045.05 Q143.035 1048.59 146.646 1048.59 Q150.28 1048.59 152.086 1045.05 Q153.914 1041.48 153.914 1034.37 Q153.914 1027.24 152.086 1023.7 Q150.28 1020.14 146.646 1020.14 M146.646 1016.43 Q152.456 1016.43 155.511 1021.04 Q158.59 1025.62 158.59 1034.37 Q158.59 1043.1 155.511 1047.71 Q152.456 1052.29 146.646 1052.29 Q140.836 1052.29 137.757 1047.71 Q134.701 1043.1 134.701 1034.37 Q134.701 1025.62 137.757 1021.04 Q140.836 1016.43 146.646 1016.43 Z\" fill=\"#000000\" fill-rule=\"evenodd\" fill-opacity=\"1\" /><path clip-path=\"url(#clip110)\" d=\"M176.808 1020.14 Q173.197 1020.14 171.368 1023.7 Q169.562 1027.24 169.562 1034.37 Q169.562 1041.48 171.368 1045.05 Q173.197 1048.59 176.808 1048.59 Q180.442 1048.59 182.247 1045.05 Q184.076 1041.48 184.076 1034.37 Q184.076 1027.24 182.247 1023.7 Q180.442 1020.14 176.808 1020.14 M176.808 1016.43 Q182.618 1016.43 185.673 1021.04 Q188.752 1025.62 188.752 1034.37 Q188.752 1043.1 185.673 1047.71 Q182.618 1052.29 176.808 1052.29 Q170.997 1052.29 167.919 1047.71 Q164.863 1043.1 164.863 1034.37 Q164.863 1025.62 167.919 1021.04 Q170.997 1016.43 176.808 1016.43 Z\" fill=\"#000000\" fill-rule=\"evenodd\" fill-opacity=\"1\" /><path clip-path=\"url(#clip110)\" d=\"M206.97 1020.14 Q203.358 1020.14 201.53 1023.7 Q199.724 1027.24 199.724 1034.37 Q199.724 1041.48 201.53 1045.05 Q203.358 1048.59 206.97 1048.59 Q210.604 1048.59 212.409 1045.05 Q214.238 1041.48 214.238 1034.37 Q214.238 1027.24 212.409 1023.7 Q210.604 1020.14 206.97 1020.14 M206.97 1016.43 Q212.78 1016.43 215.835 1021.04 Q218.914 1025.62 218.914 1034.37 Q218.914 1043.1 215.835 1047.71 Q212.78 1052.29 206.97 1052.29 Q201.159 1052.29 198.081 1047.71 Q195.025 1043.1 195.025 1034.37 Q195.025 1025.62 198.081 1021.04 Q201.159 1016.43 206.97 1016.43 Z\" fill=\"#000000\" fill-rule=\"evenodd\" fill-opacity=\"1\" /><path clip-path=\"url(#clip110)\" d=\"M237.131 1020.14 Q233.52 1020.14 231.692 1023.7 Q229.886 1027.24 229.886 1034.37 Q229.886 1041.48 231.692 1045.05 Q233.52 1048.59 237.131 1048.59 Q240.766 1048.59 242.571 1045.05 Q244.4 1041.48 244.4 1034.37 Q244.4 1027.24 242.571 1023.7 Q240.766 1020.14 237.131 1020.14 M237.131 1016.43 Q242.942 1016.43 245.997 1021.04 Q249.076 1025.62 249.076 1034.37 Q249.076 1043.1 245.997 1047.71 Q242.942 1052.29 237.131 1052.29 Q231.321 1052.29 228.243 1047.71 Q225.187 1043.1 225.187 1034.37 Q225.187 1025.62 228.243 1021.04 Q231.321 1016.43 237.131 1016.43 Z\" fill=\"#000000\" fill-rule=\"evenodd\" fill-opacity=\"1\" /><path clip-path=\"url(#clip110)\" d=\"M102.41 804.594 Q98.7988 804.594 96.9701 808.159 Q95.1646 811.7 95.1646 818.83 Q95.1646 825.936 96.9701 829.501 Q98.7988 833.043 102.41 833.043 Q106.044 833.043 107.85 829.501 Q109.678 825.936 109.678 818.83 Q109.678 811.7 107.85 808.159 Q106.044 804.594 102.41 804.594 M102.41 800.89 Q108.22 800.89 111.276 805.497 Q114.354 810.08 114.354 818.83 Q114.354 827.557 111.276 832.163 Q108.22 836.747 102.41 836.747 Q96.5997 836.747 93.5211 832.163 Q90.4655 827.557 90.4655 818.83 Q90.4655 810.08 93.5211 805.497 Q96.5997 800.89 102.41 800.89 Z\" fill=\"#000000\" fill-rule=\"evenodd\" fill-opacity=\"1\" /><path clip-path=\"url(#clip110)\" d=\"M122.572 830.196 L127.456 830.196 L127.456 836.075 L122.572 836.075 L122.572 830.196 Z\" fill=\"#000000\" fill-rule=\"evenodd\" fill-opacity=\"1\" /><path clip-path=\"url(#clip110)\" d=\"M147.641 804.594 Q144.03 804.594 142.201 808.159 Q140.396 811.7 140.396 818.83 Q140.396 825.936 142.201 829.501 Q144.03 833.043 147.641 833.043 Q151.275 833.043 153.081 829.501 Q154.91 825.936 154.91 818.83 Q154.91 811.7 153.081 808.159 Q151.275 804.594 147.641 804.594 M147.641 800.89 Q153.451 800.89 156.507 805.497 Q159.586 810.08 159.586 818.83 Q159.586 827.557 156.507 832.163 Q153.451 836.747 147.641 836.747 Q141.831 836.747 138.752 832.163 Q135.697 827.557 135.697 818.83 Q135.697 810.08 138.752 805.497 Q141.831 800.89 147.641 800.89 Z\" fill=\"#000000\" fill-rule=\"evenodd\" fill-opacity=\"1\" /><path clip-path=\"url(#clip110)\" d=\"M177.803 804.594 Q174.192 804.594 172.363 808.159 Q170.558 811.7 170.558 818.83 Q170.558 825.936 172.363 829.501 Q174.192 833.043 177.803 833.043 Q181.437 833.043 183.243 829.501 Q185.071 825.936 185.071 818.83 Q185.071 811.7 183.243 808.159 Q181.437 804.594 177.803 804.594 M177.803 800.89 Q183.613 800.89 186.669 805.497 Q189.747 810.08 189.747 818.83 Q189.747 827.557 186.669 832.163 Q183.613 836.747 177.803 836.747 Q171.993 836.747 168.914 832.163 Q165.859 827.557 165.859 818.83 Q165.859 810.08 168.914 805.497 Q171.993 800.89 177.803 800.89 Z\" fill=\"#000000\" fill-rule=\"evenodd\" fill-opacity=\"1\" /><path clip-path=\"url(#clip110)\" d=\"M207.965 804.594 Q204.354 804.594 202.525 808.159 Q200.72 811.7 200.72 818.83 Q200.72 825.936 202.525 829.501 Q204.354 833.043 207.965 833.043 Q211.599 833.043 213.405 829.501 Q215.233 825.936 215.233 818.83 Q215.233 811.7 213.405 808.159 Q211.599 804.594 207.965 804.594 M207.965 800.89 Q213.775 800.89 216.831 805.497 Q219.909 810.08 219.909 818.83 Q219.909 827.557 216.831 832.163 Q213.775 836.747 207.965 836.747 Q202.155 836.747 199.076 832.163 Q196.021 827.557 196.021 818.83 Q196.021 810.08 199.076 805.497 Q202.155 800.89 207.965 800.89 Z\" fill=\"#000000\" fill-rule=\"evenodd\" fill-opacity=\"1\" /><path clip-path=\"url(#clip110)\" d=\"M228.173 801.515 L246.53 801.515 L246.53 805.45 L232.456 805.45 L232.456 813.923 Q233.474 813.575 234.493 813.413 Q235.511 813.228 236.53 813.228 Q242.317 813.228 245.696 816.399 Q249.076 819.571 249.076 824.987 Q249.076 830.566 245.604 833.668 Q242.131 836.747 235.812 836.747 Q233.636 836.747 231.368 836.376 Q229.122 836.006 226.715 835.265 L226.715 830.566 Q228.798 831.7 231.02 832.256 Q233.243 832.811 235.719 832.811 Q239.724 832.811 242.062 830.705 Q244.4 828.598 244.4 824.987 Q244.4 821.376 242.062 819.27 Q239.724 817.163 235.719 817.163 Q233.844 817.163 231.969 817.58 Q230.118 817.997 228.173 818.876 L228.173 801.515 Z\" fill=\"#000000\" fill-rule=\"evenodd\" fill-opacity=\"1\" /><path clip-path=\"url(#clip110)\" d=\"M101.415 589.05 Q97.8034 589.05 95.9748 592.614 Q94.1692 596.156 94.1692 603.286 Q94.1692 610.392 95.9748 613.957 Q97.8034 617.499 101.415 617.499 Q105.049 617.499 106.854 613.957 Q108.683 610.392 108.683 603.286 Q108.683 596.156 106.854 592.614 Q105.049 589.05 101.415 589.05 M101.415 585.346 Q107.225 585.346 110.28 589.952 Q113.359 594.536 113.359 603.286 Q113.359 612.013 110.28 616.619 Q107.225 621.202 101.415 621.202 Q95.6044 621.202 92.5257 616.619 Q89.4702 612.013 89.4702 603.286 Q89.4702 594.536 92.5257 589.952 Q95.6044 585.346 101.415 585.346 Z\" fill=\"#000000\" fill-rule=\"evenodd\" fill-opacity=\"1\" /><path clip-path=\"url(#clip110)\" d=\"M121.576 614.651 L126.461 614.651 L126.461 620.531 L121.576 620.531 L121.576 614.651 Z\" fill=\"#000000\" fill-rule=\"evenodd\" fill-opacity=\"1\" /><path clip-path=\"url(#clip110)\" d=\"M146.646 589.05 Q143.035 589.05 141.206 592.614 Q139.4 596.156 139.4 603.286 Q139.4 610.392 141.206 613.957 Q143.035 617.499 146.646 617.499 Q150.28 617.499 152.086 613.957 Q153.914 610.392 153.914 603.286 Q153.914 596.156 152.086 592.614 Q150.28 589.05 146.646 589.05 M146.646 585.346 Q152.456 585.346 155.511 589.952 Q158.59 594.536 158.59 603.286 Q158.59 612.013 155.511 616.619 Q152.456 621.202 146.646 621.202 Q140.836 621.202 137.757 616.619 Q134.701 612.013 134.701 603.286 Q134.701 594.536 137.757 589.952 Q140.836 585.346 146.646 585.346 Z\" fill=\"#000000\" fill-rule=\"evenodd\" fill-opacity=\"1\" /><path clip-path=\"url(#clip110)\" d=\"M176.808 589.05 Q173.197 589.05 171.368 592.614 Q169.562 596.156 169.562 603.286 Q169.562 610.392 171.368 613.957 Q173.197 617.499 176.808 617.499 Q180.442 617.499 182.247 613.957 Q184.076 610.392 184.076 603.286 Q184.076 596.156 182.247 592.614 Q180.442 589.05 176.808 589.05 M176.808 585.346 Q182.618 585.346 185.673 589.952 Q188.752 594.536 188.752 603.286 Q188.752 612.013 185.673 616.619 Q182.618 621.202 176.808 621.202 Q170.997 621.202 167.919 616.619 Q164.863 612.013 164.863 603.286 Q164.863 594.536 167.919 589.952 Q170.997 585.346 176.808 585.346 Z\" fill=\"#000000\" fill-rule=\"evenodd\" fill-opacity=\"1\" /><path clip-path=\"url(#clip110)\" d=\"M197.78 616.596 L205.419 616.596 L205.419 590.23 L197.108 591.897 L197.108 587.638 L205.372 585.971 L210.048 585.971 L210.048 616.596 L217.687 616.596 L217.687 620.531 L197.78 620.531 L197.78 616.596 Z\" fill=\"#000000\" fill-rule=\"evenodd\" fill-opacity=\"1\" /><path clip-path=\"url(#clip110)\" d=\"M237.131 589.05 Q233.52 589.05 231.692 592.614 Q229.886 596.156 229.886 603.286 Q229.886 610.392 231.692 613.957 Q233.52 617.499 237.131 617.499 Q240.766 617.499 242.571 613.957 Q244.4 610.392 244.4 603.286 Q244.4 596.156 242.571 592.614 Q240.766 589.05 237.131 589.05 M237.131 585.346 Q242.942 585.346 245.997 589.952 Q249.076 594.536 249.076 603.286 Q249.076 612.013 245.997 616.619 Q242.942 621.202 237.131 621.202 Q231.321 621.202 228.243 616.619 Q225.187 612.013 225.187 603.286 Q225.187 594.536 228.243 589.952 Q231.321 585.346 237.131 585.346 Z\" fill=\"#000000\" fill-rule=\"evenodd\" fill-opacity=\"1\" /><path clip-path=\"url(#clip110)\" d=\"M102.41 373.505 Q98.7988 373.505 96.9701 377.07 Q95.1646 380.612 95.1646 387.741 Q95.1646 394.848 96.9701 398.413 Q98.7988 401.954 102.41 401.954 Q106.044 401.954 107.85 398.413 Q109.678 394.848 109.678 387.741 Q109.678 380.612 107.85 377.07 Q106.044 373.505 102.41 373.505 M102.41 369.802 Q108.22 369.802 111.276 374.408 Q114.354 378.991 114.354 387.741 Q114.354 396.468 111.276 401.075 Q108.22 405.658 102.41 405.658 Q96.5997 405.658 93.5211 401.075 Q90.4655 396.468 90.4655 387.741 Q90.4655 378.991 93.5211 374.408 Q96.5997 369.802 102.41 369.802 Z\" fill=\"#000000\" fill-rule=\"evenodd\" fill-opacity=\"1\" /><path clip-path=\"url(#clip110)\" d=\"M122.572 399.107 L127.456 399.107 L127.456 404.987 L122.572 404.987 L122.572 399.107 Z\" fill=\"#000000\" fill-rule=\"evenodd\" fill-opacity=\"1\" /><path clip-path=\"url(#clip110)\" d=\"M147.641 373.505 Q144.03 373.505 142.201 377.07 Q140.396 380.612 140.396 387.741 Q140.396 394.848 142.201 398.413 Q144.03 401.954 147.641 401.954 Q151.275 401.954 153.081 398.413 Q154.91 394.848 154.91 387.741 Q154.91 380.612 153.081 377.07 Q151.275 373.505 147.641 373.505 M147.641 369.802 Q153.451 369.802 156.507 374.408 Q159.586 378.991 159.586 387.741 Q159.586 396.468 156.507 401.075 Q153.451 405.658 147.641 405.658 Q141.831 405.658 138.752 401.075 Q135.697 396.468 135.697 387.741 Q135.697 378.991 138.752 374.408 Q141.831 369.802 147.641 369.802 Z\" fill=\"#000000\" fill-rule=\"evenodd\" fill-opacity=\"1\" /><path clip-path=\"url(#clip110)\" d=\"M177.803 373.505 Q174.192 373.505 172.363 377.07 Q170.558 380.612 170.558 387.741 Q170.558 394.848 172.363 398.413 Q174.192 401.954 177.803 401.954 Q181.437 401.954 183.243 398.413 Q185.071 394.848 185.071 387.741 Q185.071 380.612 183.243 377.07 Q181.437 373.505 177.803 373.505 M177.803 369.802 Q183.613 369.802 186.669 374.408 Q189.747 378.991 189.747 387.741 Q189.747 396.468 186.669 401.075 Q183.613 405.658 177.803 405.658 Q171.993 405.658 168.914 401.075 Q165.859 396.468 165.859 387.741 Q165.859 378.991 168.914 374.408 Q171.993 369.802 177.803 369.802 Z\" fill=\"#000000\" fill-rule=\"evenodd\" fill-opacity=\"1\" /><path clip-path=\"url(#clip110)\" d=\"M198.775 401.052 L206.414 401.052 L206.414 374.686 L198.104 376.353 L198.104 372.093 L206.368 370.427 L211.044 370.427 L211.044 401.052 L218.682 401.052 L218.682 404.987 L198.775 404.987 L198.775 401.052 Z\" fill=\"#000000\" fill-rule=\"evenodd\" fill-opacity=\"1\" /><path clip-path=\"url(#clip110)\" d=\"M228.173 370.427 L246.53 370.427 L246.53 374.362 L232.456 374.362 L232.456 382.834 Q233.474 382.487 234.493 382.325 Q235.511 382.14 236.53 382.14 Q242.317 382.14 245.696 385.311 Q249.076 388.482 249.076 393.899 Q249.076 399.477 245.604 402.579 Q242.131 405.658 235.812 405.658 Q233.636 405.658 231.368 405.288 Q229.122 404.917 226.715 404.177 L226.715 399.477 Q228.798 400.612 231.02 401.167 Q233.243 401.723 235.719 401.723 Q239.724 401.723 242.062 399.616 Q244.4 397.51 244.4 393.899 Q244.4 390.288 242.062 388.181 Q239.724 386.075 235.719 386.075 Q233.844 386.075 231.969 386.491 Q230.118 386.908 228.173 387.788 L228.173 370.427 Z\" fill=\"#000000\" fill-rule=\"evenodd\" fill-opacity=\"1\" /><path clip-path=\"url(#clip110)\" d=\"M101.415 157.961 Q97.8034 157.961 95.9748 161.526 Q94.1692 165.068 94.1692 172.197 Q94.1692 179.304 95.9748 182.868 Q97.8034 186.41 101.415 186.41 Q105.049 186.41 106.854 182.868 Q108.683 179.304 108.683 172.197 Q108.683 165.068 106.854 161.526 Q105.049 157.961 101.415 157.961 M101.415 154.257 Q107.225 154.257 110.28 158.864 Q113.359 163.447 113.359 172.197 Q113.359 180.924 110.28 185.53 Q107.225 190.114 101.415 190.114 Q95.6044 190.114 92.5257 185.53 Q89.4702 180.924 89.4702 172.197 Q89.4702 163.447 92.5257 158.864 Q95.6044 154.257 101.415 154.257 Z\" fill=\"#000000\" fill-rule=\"evenodd\" fill-opacity=\"1\" /><path clip-path=\"url(#clip110)\" d=\"M121.576 183.563 L126.461 183.563 L126.461 189.442 L121.576 189.442 L121.576 183.563 Z\" fill=\"#000000\" fill-rule=\"evenodd\" fill-opacity=\"1\" /><path clip-path=\"url(#clip110)\" d=\"M146.646 157.961 Q143.035 157.961 141.206 161.526 Q139.4 165.068 139.4 172.197 Q139.4 179.304 141.206 182.868 Q143.035 186.41 146.646 186.41 Q150.28 186.41 152.086 182.868 Q153.914 179.304 153.914 172.197 Q153.914 165.068 152.086 161.526 Q150.28 157.961 146.646 157.961 M146.646 154.257 Q152.456 154.257 155.511 158.864 Q158.59 163.447 158.59 172.197 Q158.59 180.924 155.511 185.53 Q152.456 190.114 146.646 190.114 Q140.836 190.114 137.757 185.53 Q134.701 180.924 134.701 172.197 Q134.701 163.447 137.757 158.864 Q140.836 154.257 146.646 154.257 Z\" fill=\"#000000\" fill-rule=\"evenodd\" fill-opacity=\"1\" /><path clip-path=\"url(#clip110)\" d=\"M176.808 157.961 Q173.197 157.961 171.368 161.526 Q169.562 165.068 169.562 172.197 Q169.562 179.304 171.368 182.868 Q173.197 186.41 176.808 186.41 Q180.442 186.41 182.247 182.868 Q184.076 179.304 184.076 172.197 Q184.076 165.068 182.247 161.526 Q180.442 157.961 176.808 157.961 M176.808 154.257 Q182.618 154.257 185.673 158.864 Q188.752 163.447 188.752 172.197 Q188.752 180.924 185.673 185.53 Q182.618 190.114 176.808 190.114 Q170.997 190.114 167.919 185.53 Q164.863 180.924 164.863 172.197 Q164.863 163.447 167.919 158.864 Q170.997 154.257 176.808 154.257 Z\" fill=\"#000000\" fill-rule=\"evenodd\" fill-opacity=\"1\" /><path clip-path=\"url(#clip110)\" d=\"M200.997 185.507 L217.317 185.507 L217.317 189.442 L195.372 189.442 L195.372 185.507 Q198.034 182.753 202.618 178.123 Q207.224 173.47 208.405 172.128 Q210.65 169.605 211.53 167.869 Q212.432 166.109 212.432 164.419 Q212.432 161.665 210.488 159.929 Q208.567 158.193 205.465 158.193 Q203.266 158.193 200.812 158.957 Q198.382 159.72 195.604 161.271 L195.604 156.549 Q198.428 155.415 200.882 154.836 Q203.335 154.257 205.372 154.257 Q210.743 154.257 213.937 156.943 Q217.132 159.628 217.132 164.119 Q217.132 166.248 216.321 168.169 Q215.534 170.068 213.428 172.66 Q212.849 173.331 209.747 176.549 Q206.645 179.743 200.997 185.507 Z\" fill=\"#000000\" fill-rule=\"evenodd\" fill-opacity=\"1\" /><path clip-path=\"url(#clip110)\" d=\"M237.131 157.961 Q233.52 157.961 231.692 161.526 Q229.886 165.068 229.886 172.197 Q229.886 179.304 231.692 182.868 Q233.52 186.41 237.131 186.41 Q240.766 186.41 242.571 182.868 Q244.4 179.304 244.4 172.197 Q244.4 165.068 242.571 161.526 Q240.766 157.961 237.131 157.961 M237.131 154.257 Q242.942 154.257 245.997 158.864 Q249.076 163.447 249.076 172.197 Q249.076 180.924 245.997 185.53 Q242.942 190.114 237.131 190.114 Q231.321 190.114 228.243 185.53 Q225.187 180.924 225.187 172.197 Q225.187 163.447 228.243 158.864 Q231.321 154.257 237.131 154.257 Z\" fill=\"#000000\" fill-rule=\"evenodd\" fill-opacity=\"1\" /><path clip-path=\"url(#clip110)\" d=\"M21.867 645.655 L40.7731 645.655 L40.7731 651.544 L-8.4338 651.544 L-8.4338 645.655 L-3.02295 645.655 Q-6.2058 643.809 -7.73357 641.009 Q-9.29317 638.176 -9.29317 634.261 Q-9.29317 627.768 -4.13695 623.726 Q1.01927 619.652 9.42201 619.652 Q17.8247 619.652 22.981 623.726 Q28.1372 627.768 28.1372 634.261 Q28.1372 638.176 26.6094 641.009 Q25.0498 643.809 21.867 645.655 M9.42201 625.731 Q2.96082 625.731 -0.699466 628.404 Q-4.39158 631.046 -4.39158 635.693 Q-4.39158 640.34 -0.699466 643.014 Q2.96082 645.655 9.42201 645.655 Q15.8832 645.655 19.5753 643.014 Q23.2356 640.34 23.2356 635.693 Q23.2356 631.046 19.5753 628.404 Q15.8832 625.731 9.42201 625.731 Z\" fill=\"#000000\" fill-rule=\"evenodd\" fill-opacity=\"1\" /><path clip-path=\"url(#clip110)\" d=\"M-22.2474 595.876 Q-14.9268 600.141 -7.7654 602.21 Q-0.60398 604.278 6.74841 604.278 Q14.1008 604.278 21.3259 602.21 Q28.5191 600.109 35.8079 595.876 L35.8079 600.968 Q28.3282 605.743 21.1031 608.13 Q13.878 610.485 6.74841 610.485 Q-0.349352 610.485 -7.5426 608.13 Q-14.7358 605.774 -22.2474 600.968 L-22.2474 595.876 Z\" fill=\"#000000\" fill-rule=\"evenodd\" fill-opacity=\"1\" /><path clip-path=\"url(#clip110)\" d=\"M-15.0223 577.829 L21.9306 577.829 L21.9306 570.063 Q21.9306 560.228 17.4746 555.676 Q13.0186 551.093 3.40641 551.093 Q-6.14215 551.093 -10.5663 555.676 Q-15.0223 560.228 -15.0223 570.063 L-15.0223 577.829 M-20.3058 584.258 L-20.3058 571.049 Q-20.3058 557.236 -14.5449 550.775 Q-8.81574 544.313 3.40641 544.313 Q15.6922 544.313 21.4532 550.806 Q27.2142 557.299 27.2142 571.049 L27.2142 584.258 L-20.3058 584.258 Z\" fill=\"#000000\" fill-rule=\"evenodd\" fill-opacity=\"1\" /><path clip-path=\"url(#clip110)\" d=\"M-22.5975 526.776 L42.5873 526.776 L42.5873 532.187 L-22.5975 532.187 L-22.5975 526.776 Z\" fill=\"#000000\" fill-rule=\"evenodd\" fill-opacity=\"1\" /><path clip-path=\"url(#clip110)\" d=\"M4.6159 488.423 L4.6159 508.697 Q14.1326 508.22 18.1749 506.024 Q23.1401 503.286 23.1401 498.544 Q23.1401 493.77 18.143 491.128 Q13.7507 488.804 4.6159 488.423 M-0.794952 488.518 Q-9.83426 489.409 -13.0171 491.128 Q-18.046 493.865 -18.046 498.544 Q-18.046 503.414 -13.0808 505.992 Q-9.07037 508.029 -0.794952 508.634 L-0.794952 488.518 M-22.8203 498.544 Q-22.8203 490.905 -16.0726 486.545 Q-9.35683 482.184 2.54704 482.184 Q14.4191 482.184 21.1667 486.545 Q27.9462 490.905 27.9462 498.544 Q27.9462 506.215 21.1667 510.543 Q14.4191 514.904 2.54704 514.904 Q-9.35683 514.904 -16.0726 510.543 Q-22.8203 506.215 -22.8203 498.544 Z\" fill=\"#000000\" fill-rule=\"evenodd\" fill-opacity=\"1\" /><path clip-path=\"url(#clip110)\" d=\"M-22.2474 473.399 L-22.2474 468.307 Q-14.7358 463.533 -7.5426 461.177 Q-0.349352 458.79 6.74841 458.79 Q13.878 458.79 21.1031 461.177 Q28.3282 463.533 35.8079 468.307 L35.8079 473.399 Q28.5191 469.166 21.3259 467.097 Q14.1008 464.997 6.74841 464.997 Q-0.60398 464.997 -7.7654 467.097 Q-14.9268 469.166 -22.2474 473.399 Z\" fill=\"#000000\" fill-rule=\"evenodd\" fill-opacity=\"1\" /><polyline clip-path=\"url(#clip112)\" style=\"stroke:#009af9; stroke-linecap:butt; stroke-linejoin:round; stroke-width:8; stroke-opacity:1; fill:none\" points=\"\n",
       "  377.897,1034.34 405.109,1034.34 432.322,1034.34 459.534,1034.34 486.747,1034.34 513.959,1034.34 541.172,1034.34 568.384,1034.34 595.597,1034.33 622.809,1034.32 \n",
       "  650.022,1034.31 677.234,1034.28 704.447,1034.23 731.659,1034.15 758.872,1034.03 786.084,1033.86 813.297,1033.61 840.509,1033.26 867.722,1032.79 894.934,1032.16 \n",
       "  922.147,1031.33 949.359,1030.27 976.572,1028.91 1003.78,1027.22 1031,1025.12 1058.21,1022.55 1085.42,1019.45 1112.63,1015.73 1139.85,1011.32 1167.06,1006.14 \n",
       "  1194.27,1000.09 1221.48,993.104 1248.7,985.08 1275.91,975.935 1303.12,965.584 1330.33,953.944 1357.55,940.938 1384.76,926.494 1411.97,910.548 1439.18,893.047 \n",
       "  1466.4,873.945 1493.61,853.212 1520.82,830.83 1548.03,806.799 1575.25,781.135 1602.46,753.871 1629.67,725.063 1656.88,694.785 1684.1,663.135 1711.31,630.232 \n",
       "  1738.52,596.22 1765.73,561.265 1792.95,525.558 1820.16,489.311 1847.37,452.761 1874.58,416.165 1901.8,379.8 1929.01,343.962 1956.22,308.965 1983.43,275.135 \n",
       "  2010.65,242.81 2037.86,212.335 2065.07,184.06 2092.28,158.336 2119.5,135.508 2146.71,115.912 2173.92,99.8727 2201.13,87.6925 2228.35,79.6504 2255.56,75.9944 \n",
       "  2282.77,76.9365 2309.98,82.6461 2337.2,93.2449 2364.41,108.801 2391.62,129.323 2418.83,154.756 2446.05,184.977 2473.26,219.79 2500.47,258.924 2527.68,302.031 \n",
       "  2554.9,348.685 2582.11,398.383 2609.32,450.547 2636.53,504.528 2663.75,559.613 2690.96,615.033 2718.17,669.977 2745.38,723.602 2772.6,775.058 2799.81,823.504 \n",
       "  2827.02,868.136 2854.23,908.222 2881.45,943.133 2908.66,972.388 2935.87,995.701 2963.08,1013.04 2990.3,1024.67 3017.51,1031.26 3044.72,1033.93 3071.93,1034.34 \n",
       "  \n",
       "  \"/>\n",
       "</svg>\n"
      ]
     },
     "execution_count": 10,
     "metadata": {},
     "output_type": "execute_result"
    }
   ],
   "source": [
    "D = [0 0 1 0 1 1 1 1 1 1]\n",
    "\n",
    "plot(θ, likelihood(D, θ), linewidth=2, label=\"\", xlabel=\"θ\", ylabel=\"p(D|θ)\", size=(800,300))"
   ]
  },
  {
   "cell_type": "code",
   "execution_count": 11,
   "metadata": {
    "nbgrader": {
     "grade": false,
     "grade_id": "cell-ed14ddeeb7ef1ebe",
     "locked": false,
     "schema_version": 3,
     "solution": true,
     "task": false
    }
   },
   "outputs": [
    {
     "name": "stdout",
     "output_type": "stream",
     "text": [
      "The likelihood of θ = 0.8 is largest.\n"
     ]
    }
   ],
   "source": [
    "# Create a variable \"answer_3\" with either 0.5 or 0.8 as your answer.\n",
    "\n",
    "### BEGIN SOLUTION\n",
    "D = [0 0 1 0 1 1 1 1 1 1]\n",
    "\n",
    "plot(θ, likelihood(D, θ), linewidth=2, label=\"\", xlabel=\"θ\", ylabel=\"p(D|θ)\")\n",
    "\n",
    "if likelihood(D, 0.5) > likelihood(D, 0.8)\n",
    "    answer_3 = 0.5\n",
    "else\n",
    "    answer_3 = 0.8\n",
    "end\n",
    "### END SOLUTION\n",
    "\n",
    "# Print answer\n",
    "println(\"The likelihood of θ = \"*string(answer_3)*\" is largest.\")"
   ]
  },
  {
   "cell_type": "code",
   "execution_count": 12,
   "metadata": {
    "nbgrader": {
     "grade": true,
     "grade_id": "cell-45b350d53b31ac39",
     "locked": true,
     "points": 2,
     "schema_version": 3,
     "solution": false,
     "task": false
    }
   },
   "outputs": [],
   "source": [
    "# This cell tests your answer\n",
    "@assert typeof(answer_3) == Float64\n",
    "### BEGIN HIDDEN TESTS\n",
    "@assert answer_3 == 0.8\n",
    "### END HIDDEN TESTS"
   ]
  }
 ],
 "metadata": {
  "@webio": {
   "lastCommId": null,
   "lastKernelId": null
  },
  "celltoolbar": "Create Assignment",
  "kernelspec": {
   "display_name": "Julia 1.6.3",
   "language": "julia",
   "name": "julia-1.6"
  },
  "language_info": {
   "file_extension": ".jl",
   "mimetype": "application/julia",
   "name": "julia",
   "version": "1.6.3"
  }
 },
 "nbformat": 4,
 "nbformat_minor": 4
}
