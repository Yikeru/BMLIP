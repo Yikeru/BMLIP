{
 "cells": [
  {
   "cell_type": "markdown",
   "metadata": {
    "nbgrader": {
     "grade": false,
     "grade_id": "cell-217de2f8df81af69",
     "locked": true,
     "schema_version": 3,
     "solution": false,
     "task": false
    }
   },
   "source": [
    "## Probabilistic Programming 2: Assignment\n",
    "\n",
    "In this assignment, we will look at one of the examples in the lecture on the Gaussian distribution. Consider the following factor graph:\n",
    "\n",
    "![](figures/ffg-PP2-assignment.png)\n",
    "\n",
    "The variables $x$ and $y$ are Gaussian distributed:\n",
    "\n",
    "$$\\begin{align*}\n",
    "x \\sim&\\ \\mathcal{N}(\\mu_x,\\Sigma_x) \\\\\n",
    "y \\sim&\\ \\mathcal{N}(\\mu_y,\\Sigma_y) \\, .\n",
    "\\end{align*}$$\n",
    "\n",
    "Both are two-dimensional. The square node on the left is a vector addition operation, with $\\xi_1$ representing the result. The middle square node is a multiplication operation with a clamped matrix $A = \\begin{bmatrix} 2 & 0 \\\\ 0 & 1 \\end{bmatrix}$ resulting in $\\xi_2$. The right square node is a vector subtraction between $\\xi_2$ and a clamped vector $b = \\begin{bmatrix} 0 \\\\ 1 \\end{bmatrix}$, producing the variable $z$."
   ]
  },
  {
   "cell_type": "code",
   "execution_count": null,
   "metadata": {
    "nbgrader": {
     "grade": false,
     "grade_id": "cell-0f4c86237a7e9708",
     "locked": true,
     "schema_version": 3,
     "solution": false,
     "task": false
    }
   },
   "outputs": [],
   "source": [
    "using Pkg\n",
    "Pkg.activate(\"workspace/\")\n",
    "Pkg.instantiate();"
   ]
  },
  {
   "cell_type": "markdown",
   "metadata": {
    "nbgrader": {
     "grade": false,
     "grade_id": "cell-1a26cb45dcb07124",
     "locked": true,
     "schema_version": 3,
     "solution": false,
     "task": false
    }
   },
   "source": [
    "### **1) What are the parameters of the message going out of the left square node?**\n",
    "\n",
    "To answer this question, you'll need to specify a model in ForneyLab. The cell below already has a graph, some clamped parameters, the algorithm compilation and the algorithm execution code. Your job is add the two Gaussian variables $x$, $y$ and the resulting variable $ξ_1$ to the graph. You don't need to assign `:id`'s to these variables, you don't need `placeholder()`s and you don't have to specify a `PosteriorFactorization`.\n",
    "\n",
    "You can add variables to a graph using the `@RV` macro. Use `@RV var ~ ...` to define a stochastic variable (one that follows a particular distribution) and `@RV var = ...` for a deterministic variable. Options for distributions include `GaussianMeanVariance`, `GaussianMeanPrecision`, `Gamma`, `Wishart`, `Beta`, `Bernoulli`, `Categorical` and `Dirichlet`."
   ]
  },
  {
   "cell_type": "code",
   "execution_count": null,
   "metadata": {
    "nbgrader": {
     "grade": false,
     "grade_id": "cell-2b06871cebe3fe1d",
     "locked": false,
     "schema_version": 3,
     "solution": true,
     "task": false
    }
   },
   "outputs": [],
   "source": [
    "using ForneyLab\n",
    "\n",
    "# Start factor graph\n",
    "g = FactorGraph()\n",
    "\n",
    "# Set parameters\n",
    "μ_x = [1.0, 1.0]\n",
    "Σ_x = [1.0  0.0;\n",
    "       0.0  1.0]\n",
    "μ_y = [0.0, 0.0]\n",
    "Σ_y = [2.0  0.0;\n",
    "       0.0  1.0]\n",
    "\n",
    "### YOUR CODE HERE\n",
    "\n",
    "# Compile algorithm\n",
    "algo = messagePassingAlgorithm(ξ_1)\n",
    "source_code = algorithmSourceCode(algo)\n",
    "eval(Meta.parse(source_code))\n",
    "\n",
    "# Execute inference\n",
    "messages = Array{Message}(undef, 3)\n",
    "step!(Dict(), Dict(), messages)\n",
    "println(\"Outgoing \"*string(messages[3]))"
   ]
  },
  {
   "cell_type": "markdown",
   "metadata": {
    "nbgrader": {
     "grade": false,
     "grade_id": "cell-69cc7bf0ef19659d",
     "locked": true,
     "schema_version": 3,
     "solution": false,
     "task": false
    }
   },
   "source": [
    "Suppose $\\xi_1$ follows a Gaussian distribution $\\xi_1 \\sim \\mathcal{N}(\\mu_{\\xi_1}, \\Sigma_{\\xi_1})$. The middle square node will perform a matrix multiplication $\\xi_2 = A \\cdot \\xi_1$.\n",
    "\n",
    "### **2) What are the parameters of the message going out of the middle square node?**\n",
    "\n",
    "Add $ξ_1$ and $ξ_2$ as variables to the graph."
   ]
  },
  {
   "cell_type": "code",
   "execution_count": null,
   "metadata": {
    "nbgrader": {
     "grade": false,
     "grade_id": "cell-62055605a3bf0693",
     "locked": false,
     "schema_version": 3,
     "solution": true,
     "task": false
    }
   },
   "outputs": [],
   "source": [
    "# Start factor graph\n",
    "g = FactorGraph()\n",
    "\n",
    "# Set parameters\n",
    "μ_ξ_1 = [1.0, 1.0]\n",
    "Σ_ξ_1 = [1.0  0.0;\n",
    "         0.0  1.0]\n",
    "\n",
    "# Transition matrix\n",
    "A = [2. 0.;\n",
    "     0. 1.]\n",
    "\n",
    "### YOUR CODE HERE\n",
    "\n",
    "# Compile algorithm\n",
    "algo = messagePassingAlgorithm(ξ_2)\n",
    "source_code = algorithmSourceCode(algo)\n",
    "eval(Meta.parse(source_code))\n",
    "\n",
    "# Execute inference\n",
    "messages = Array{Message}(undef, 2)\n",
    "step!(Dict(), Dict(), messages)\n",
    "println(\"Outgoing \"*string(messages[2]))"
   ]
  },
  {
   "cell_type": "markdown",
   "metadata": {
    "nbgrader": {
     "grade": false,
     "grade_id": "cell-d48b7f00ec1b96d0",
     "locked": true,
     "schema_version": 3,
     "solution": false,
     "task": false
    }
   },
   "source": [
    "The right square node is a vector subtraction, producing $z = \\xi_2 - b$. Suppose the marginal for $\\xi_2 \\sim \\mathcal{N}(\\mu_{\\xi_2}, \\Sigma_{\\xi_2})$. \n",
    "\n",
    "### **3) What are the parameters for the message going out of the right node?**\n",
    "\n",
    "Add $\\xi_2$ and $z$ as variables to the graph."
   ]
  },
  {
   "cell_type": "code",
   "execution_count": null,
   "metadata": {
    "nbgrader": {
     "grade": false,
     "grade_id": "cell-e30981f314233cd1",
     "locked": false,
     "schema_version": 3,
     "solution": true,
     "task": false
    }
   },
   "outputs": [],
   "source": [
    "# Start factor graph\n",
    "g = FactorGraph()\n",
    "\n",
    "# Set parameters\n",
    "μ_ξ_2 = [1.0, 1.0]\n",
    "Σ_ξ_2 = [1.0  0.0;\n",
    "         0.0  1.0]\n",
    "\n",
    "# Transition matrix\n",
    "b = [0., 1.]\n",
    "\n",
    "### YOUR CODE HERE\n",
    "\n",
    "# Compile algorithm\n",
    "algo = messagePassingAlgorithm(z)\n",
    "source_code = algorithmSourceCode(algo)\n",
    "eval(Meta.parse(source_code))\n",
    "\n",
    "# Execute inference\n",
    "messages = Array{Message}(undef, 2)\n",
    "step!(Dict(), Dict(), messages)\n",
    "println(\"Outgoing \"*string(messages[2]))"
   ]
  }
 ],
 "metadata": {
  "@webio": {
   "lastCommId": null,
   "lastKernelId": null
  },
  "celltoolbar": "Create Assignment",
  "kernelspec": {
   "display_name": "Julia 1.6.3",
   "language": "julia",
   "name": "julia-1.6"
  },
  "language_info": {
   "file_extension": ".jl",
   "mimetype": "application/julia",
   "name": "julia",
   "version": "1.6.3"
  }
 },
 "nbformat": 4,
 "nbformat_minor": 4
}
