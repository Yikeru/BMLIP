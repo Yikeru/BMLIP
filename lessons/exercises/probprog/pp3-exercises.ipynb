{
 "cells": [
  {
   "cell_type": "markdown",
   "metadata": {
    "nbgrader": {
     "grade": false,
     "grade_id": "cell-217de2f8df81af69",
     "locked": true,
     "schema_version": 3,
     "solution": false,
     "task": false
    }
   },
   "source": [
    "## Probabilistic Programming 3: Assignment\n",
    "\n",
    "In this assignment, we will be using a regression model for forecasting. You will need to compute the posterior predictive distribution and visualize the estimates. If this doesn't ring a bell, have another look at the lecture on [regression](https://nbviewer.jupyter.org/github/bertdv/BMLIP/blob/master/lessons/notebooks/Regression.ipynb)."
   ]
  },
  {
   "cell_type": "code",
   "execution_count": null,
   "metadata": {
    "nbgrader": {
     "grade": false,
     "grade_id": "cell-ce634773736de3b8",
     "locked": true,
     "schema_version": 3,
     "solution": false,
     "task": false
    }
   },
   "outputs": [],
   "source": [
    "using Pkg\n",
    "Pkg.activate(\"workspace/\")\n",
    "Pkg.instantiate();"
   ]
  },
  {
   "cell_type": "code",
   "execution_count": null,
   "metadata": {
    "nbgrader": {
     "grade": false,
     "grade_id": "cell-e5772227819eafb4",
     "locked": true,
     "schema_version": 3,
     "solution": false,
     "task": false
    }
   },
   "outputs": [],
   "source": [
    "using Random\n",
    "using ForneyLab\n",
    "using Plots"
   ]
  },
  {
   "cell_type": "code",
   "execution_count": null,
   "metadata": {},
   "outputs": [],
   "source": [
    "Random.seed!(250) # Do not change this!"
   ]
  },
  {
   "cell_type": "code",
   "execution_count": null,
   "metadata": {
    "nbgrader": {
     "grade": false,
     "grade_id": "cell-90ee7c5e0376b41f",
     "locked": true,
     "schema_version": 3,
     "solution": false,
     "task": false
    }
   },
   "outputs": [],
   "source": [
    "# Generate data\n",
    "sample_size = 100\n",
    "covariates = collect(range(0., stop=10., length=sample_size))\n",
    "responses = covariates .+ randn(sample_size,)\n",
    "\n",
    "# Visualize data\n",
    "scatter(covariates, responses, color=\"black\", label=\"\", xlabel=\"covariates\", ylabel=\"responses\", size=(800,300))"
   ]
  },
  {
   "cell_type": "code",
   "execution_count": null,
   "metadata": {
    "nbgrader": {
     "grade": false,
     "grade_id": "cell-986907b4216bcbab",
     "locked": true,
     "schema_version": 3,
     "solution": false,
     "task": false
    }
   },
   "outputs": [],
   "source": [
    "# Start factor graph\n",
    "g = FactorGraph();\n",
    "\n",
    "# Variance of likelihood\n",
    "σ2_Y = 1.\n",
    "\n",
    "# Covariates\n",
    "@RV X; placeholder(X, :X, dims=(2,))\n",
    "\n",
    "# Define a prior over the weights\n",
    "@RV θ ~ GaussianMeanVariance([0.0, 0.0], [1.0 0.;0. 1.0])\n",
    "\n",
    "# Regressors\n",
    "@RV Y ~ GaussianMeanVariance(dot(X,θ), σ2_Y)\n",
    "placeholder(Y, :Y)\n",
    "\n",
    "# Define and compile the algorithm\n",
    "algorithm = messagePassingAlgorithm(θ, free_energy=true) \n",
    "source_code = algorithmSourceCode(algorithm)\n",
    "eval(Meta.parse(source_code));\n",
    "\n",
    "# Visualise the graph\n",
    "ForneyLab.draw()"
   ]
  },
  {
   "cell_type": "code",
   "execution_count": null,
   "metadata": {
    "nbgrader": {
     "grade": false,
     "grade_id": "cell-584c6b201e5a463f",
     "locked": true,
     "schema_version": 3,
     "solution": false,
     "task": false
    }
   },
   "outputs": [],
   "source": [
    "# Initialize posteriors dictionary\n",
    "posteriors = Dict()\n",
    "for i = 1:sample_size\n",
    "    \n",
    "    # Load i-th data point\n",
    "    data = Dict(:X => [covariates[i], 1],\n",
    "                :Y => responses[i])\n",
    "\n",
    "    # Update posterior for θ\n",
    "    step!(data, posteriors)\n",
    "end\n",
    "\n",
    "# Moments of posterior distribution for regression parameters\n",
    "mθ = mean(posteriors[:θ])\n",
    "Vθ = cov(posteriors[:θ])\n",
    "println(\"Mean = \"*string(mθ))\n",
    "println(\"Covariance = \"*string(Vθ))"
   ]
  },
  {
   "cell_type": "markdown",
   "metadata": {
    "nbgrader": {
     "grade": false,
     "grade_id": "cell-6fec7df35e10eb38",
     "locked": true,
     "schema_version": 3,
     "solution": false,
     "task": false
    }
   },
   "source": [
    "So, we now have a posterior distribution for the regression parameters $\\theta$. Below we are generating new covariates $x_{\\bullet}$ and want to infer the unknown responses $y_{\\bullet}$. The predictive distribution is described in the lectures as $p(y_{\\bullet} \\mid x_{\\bullet}, D)$ where $D$ is previously observed data. This distribution has a particular form according to our regression model described above.\n",
    "\n",
    "### **1) Compute the mean of the predictive distribution.**\n",
    "\n",
    "Tip: use `.*` and `.+` to multiply with or add a number to each element in an array; `3 .* [1 2 3] = [3 6 9]` and `[1 2 3] .+ 3 = [4 5 6]` (see [broadcasting](https://docs.julialang.org/en/v1/manual/arrays/#Broadcasting))"
   ]
  },
  {
   "cell_type": "code",
   "execution_count": null,
   "metadata": {
    "nbgrader": {
     "grade": false,
     "grade_id": "cell-2b06871cebe3fe1d",
     "locked": false,
     "schema_version": 3,
     "solution": true,
     "task": false
    }
   },
   "outputs": [],
   "source": [
    "# Generate future covariates\n",
    "num_future = 10\n",
    "x_bullet = collect(range(10.0, stop=12, length=num_future))\n",
    "\n",
    "# Create a variable \"mean_y_bullet\" with the mean of predictive distribution\n",
    "### YOUR CODE HERE\n",
    "\n",
    "# Visualize forecasts\n",
    "scatter(covariates, responses, color=\"black\", label=\"data\", xlabel=\"covariates\", ylabel=\"responses\", xlims=[0., 15.], ylims=[0., 15.], legend=:topleft)\n",
    "plot!(x_bullet, mean_y_bullet, label=\"forecast\", color=\"red\", size=(800,300))"
   ]
  },
  {
   "cell_type": "markdown",
   "metadata": {
    "nbgrader": {
     "grade": false,
     "grade_id": "cell-0f82e4b894d89c24",
     "locked": true,
     "schema_version": 3,
     "solution": false,
     "task": false
    }
   },
   "source": [
    "Your visualization should look this:\n",
    "\n",
    "![](figures/mean_predictive.png)"
   ]
  },
  {
   "cell_type": "markdown",
   "metadata": {
    "nbgrader": {
     "grade": false,
     "grade_id": "cell-96d566a523039682",
     "locked": true,
     "schema_version": 3,
     "solution": false,
     "task": false
    }
   },
   "source": [
    "### **2) Compute the variance of the predictive distribution.**"
   ]
  },
  {
   "cell_type": "code",
   "execution_count": null,
   "metadata": {
    "nbgrader": {
     "grade": false,
     "grade_id": "cell-25a67ee48e201cc5",
     "locked": false,
     "schema_version": 3,
     "solution": true,
     "task": false
    }
   },
   "outputs": [],
   "source": [
    "# Create a variable \"var_y_bullet\" with the variance of the predictive distribution\n",
    "### YOUR CODE HERE\n",
    "\n",
    "# Visualize forecasts\n",
    "scatter(covariates, responses, color=\"black\", label=\"data\", xlabel=\"covariates\", ylabel=\"responses\", xlims=[0., 15.], ylims=[0., 15.], legend=:topleft)\n",
    "plot!(x_bullet, mean_y_bullet, ribbon=[var_y_bullet, var_y_bullet], label=\"forecast\", color=\"red\", size=(800,300))"
   ]
  },
  {
   "cell_type": "markdown",
   "metadata": {
    "nbgrader": {
     "grade": false,
     "grade_id": "cell-9be1e78d2b14522b",
     "locked": true,
     "schema_version": 3,
     "solution": false,
     "task": false
    }
   },
   "source": [
    "Your visualization should look like this:\n",
    "\n",
    "![](figures/full_predictive.png)"
   ]
  }
 ],
 "metadata": {
  "@webio": {
   "lastCommId": null,
   "lastKernelId": null
  },
  "celltoolbar": "Create Assignment",
  "kernelspec": {
   "display_name": "Julia 1.6.3",
   "language": "julia",
   "name": "julia-1.6"
  },
  "language_info": {
   "file_extension": ".jl",
   "mimetype": "application/julia",
   "name": "julia",
   "version": "1.6.3"
  }
 },
 "nbformat": 4,
 "nbformat_minor": 4
}
