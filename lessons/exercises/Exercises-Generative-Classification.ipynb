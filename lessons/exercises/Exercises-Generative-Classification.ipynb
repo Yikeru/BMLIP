{
 "cells": [
  {
   "cell_type": "markdown",
   "id": "45e51d4b",
   "metadata": {},
   "source": [
    "### Generative Classification\n",
    "\n",
    "- **[1]** You have a machine that measures property $x$, the \"orangeness\" of liquids. You wish to discriminate between $C_1 = \\text{`Fanta'}$ and $C_2 = \\text{`Orangina'}$. It is known that\n",
    "\n",
    "$$\\begin{align*}\n",
    "p(x|C_1) &= \\begin{cases} 10 & 1.0 \\leq x \\leq 1.1\\\\\n",
    "    0 & \\text{otherwise}\n",
    "    \\end{cases}\\\\\n",
    "p(x|C_2) &= \\begin{cases} 200(x - 1) & 1.0 \\leq x \\leq 1.1\\\\\n",
    "0 & \\text{otherwise}\n",
    "\\end{cases}\n",
    "\\end{align*}$$\n",
    "\n",
    "The prior probabilities $p(C_1) = 0.6$ and $p(C_2) = 0.4$ are also known from experience.       \n",
    "  (a) (##) A \"Bayes Classifier\" is given by\n",
    "  \n",
    "$$ \\text{Decision} = \\begin{cases} C_1 & \\text{if } p(C_1|x)>p(C_2|x) \\\\\n",
    "                               C_2 & \\text{otherwise}\n",
    "                 \\end{cases}\n",
    "$$\n",
    "\n",
    "Derive the optimal Bayes classifier.      \n",
    "  (b) (###) The probability of making the wrong decision, given $x$, is\n",
    "  \n",
    "$$\n",
    "p(\\text{error}|x)= \\begin{cases} p(C_1|x) & \\text{if we decide $C_2$}\\\\\n",
    "    p(C_2|x) & \\text{if we decide $C_1$}\n",
    "\\end{cases}\n",
    "$$\n",
    "\n",
    "Compute the **total** error probability  $p(\\text{error})$ for the Bayes classifier in this example.\n",
    "\n",
    "\n",
    "- **[2]** (#) (see Bishop exercise 4.8): Using (4.57) and (4.58) (from Bishop's book), derive the result (4.65) for the posterior class probability in the two-class generative model with Gaussian densities, and verify the results (4.66) and (4.67) for the parameters $w$ and $w0$. \n",
    "\n",
    "\n",
    "- **[3]** (###) (see Bishop exercise 4.9). \n",
    "\n",
    "\n",
    "- **[4]** (##) (see Bishop exercise 4.10).    \n",
    "\n",
    "\n",
    "<!----\n",
    "- **[2]** Consider a given data set $D=\\{(x_1,y_1),\\ldots,(x_N,y_N)\\}$ where $x_n \\in \\mathbb{R}^M$ are input features and $y_n \\in \\{0,1\\}$ are given class labels.    \n",
    "  (a) (#) Write down the generative model for this classification task using a Gaussian likelihood with Bernoulli priors for class labels.  \n",
    "  (b) How do you compute the posterior distribution for class labels, given a new input $x_\\bullet$, ie, how do you compute $p(y_\\bullet|x_\\bullet,D)$?      \n",
    "  (c) (##) Work out the likelihood function for the parameters.     \n",
    "  (d) (###) Derive the Maximum Likelihood estimates for the parameters by the gradient of the likelihood to zero.\n",
    "  \n",
    "- **[3]** Refer to [Bishop's PRML book](https://www.microsoft.com/en-us/research/uploads/prod/2006/01/Bishop-Pattern-Recognition-and-Machine-Learning-2006.pdf) for the following exercises. Chapter 4: 4.8, 4.9, 4.10.\n",
    "--->"
   ]
  },
  {
   "cell_type": "code",
   "execution_count": null,
   "id": "20c72f34",
   "metadata": {},
   "outputs": [],
   "source": []
  }
 ],
 "metadata": {
  "kernelspec": {
   "display_name": "Julia 1.5.2",
   "language": "julia",
   "name": "julia-1.5"
  },
  "language_info": {
   "file_extension": ".jl",
   "mimetype": "application/julia",
   "name": "julia",
   "version": "1.5.2"
  }
 },
 "nbformat": 4,
 "nbformat_minor": 5
}
