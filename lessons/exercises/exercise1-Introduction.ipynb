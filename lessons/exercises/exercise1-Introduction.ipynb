{
 "cells": [
  {
   "cell_type": "markdown",
   "metadata": {},
   "source": [
    "# Exercises Set 1"
   ]
  },
  {
   "cell_type": "markdown",
   "metadata": {},
   "source": [
    "## Question 1\n",
    "How does machine learning relate to scientific inquiry loop?\n"
   ]
  },
  {
   "cell_type": "markdown",
   "metadata": {},
   "source": [
    "## Answer 1\n",
    "Through machine learning we evaluate plausability of our beliefs on hypotheses given observations (data) via Baye's rule. "
   ]
  },
  {
   "cell_type": "markdown",
   "metadata": {},
   "source": [
    "## Question 2\n",
    "Give the setups for supervised, unsupervised and reinforcement learning problems."
   ]
  },
  {
   "cell_type": "markdown",
   "metadata": {},
   "source": [
    "## Answer 2\n",
    "Supervised learning setup: given data set $D=\\{(x_1, t_1), \\ldots, (x_N, t_N) \\}$, infer $p(t|x)$.\n",
    "Unsupervised learning setup: given data set $D=\\{x_1, \\ldots, x_N \\} $, infer $p(x)$.\n",
    "Reinforcement learning setup: let $s_t \\in S$ be environmental states, $a_t \\in A$ be actions and $r_t \\colon A \\times S \\to [0,1]$ be a reward function. Reinforcement objective is to; \n",
    "$$\n",
    "\\begin{align*}\n",
    "\\underset{a_t}{\\text{maximize}}& \n",
    "&r_t\n",
    "\\end{align*}\n",
    "$$"
   ]
  }
 ],
 "metadata": {
  "celltoolbar": "Raw Cell Format",
  "kernelspec": {
   "display_name": "Julia 1.1.0",
   "language": "julia",
   "name": "julia-1.1"
  },
  "language_info": {
   "file_extension": ".jl",
   "mimetype": "application/julia",
   "name": "julia",
   "version": "1.1.0"
  }
 },
 "nbformat": 4,
 "nbformat_minor": 2
}
