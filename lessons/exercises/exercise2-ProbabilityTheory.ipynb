{
 "cells": [
  {
   "cell_type": "markdown",
   "metadata": {},
   "source": [
    "# Exercises Set 2 - Probability Theory"
   ]
  },
  {
   "cell_type": "markdown",
   "metadata": {},
   "source": [
    "## Question 1\n",
    "N people are seated around a (round) table. What's the probability that fixed two people sit next to each other?"
   ]
  },
  {
   "cell_type": "markdown",
   "metadata": {},
   "source": [
    "## Question 2\n",
    "Let $\\Omega$ be a set of possible outcomes of an experiment. Let $\\mathcal{F}$ be a collection of subsets of $\\Omega$ that are closed under countable unions. What could be properties that allow us to define a probability function $P \\colon \\mathcal{F} \\to [0,1]$? If we remove the constraint that $\\mathcal{F}$ is not closed under countable unions, can we define a probability function? "
   ]
  },
  {
   "cell_type": "markdown",
   "metadata": {},
   "source": [
    "## Question 3\n",
    "In an experiment involving two events, $A$ and $B$ are known to have $P(A) = 0.5$ and $P(B) = 0.65$. It is suspected that these two events can be independent. However $P(A \\cap B)$ can not be determined by means of theory. So you run an experiment $500$ times and record that $A \\cup B$ occurs 497 times. What would you conclude regarding independence between $A$ and $B$?"
   ]
  },
  {
   "cell_type": "markdown",
   "metadata": {},
   "source": [
    "## Question 4\n",
    "\n"
   ]
  }
 ],
 "metadata": {
  "kernelspec": {
   "display_name": "Julia 0.6.2",
   "language": "julia",
   "name": "julia-0.6"
  },
  "language_info": {
   "file_extension": ".jl",
   "mimetype": "application/julia",
   "name": "julia",
   "version": "0.6.2"
  }
 },
 "nbformat": 4,
 "nbformat_minor": 2
}
